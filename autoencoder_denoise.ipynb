{
  "nbformat": 4,
  "nbformat_minor": 0,
  "metadata": {
    "colab": {
      "name": "autoencoder_denoise",
      "provenance": [],
      "collapsed_sections": [],
      "authorship_tag": "ABX9TyPF2gU1Urj7BNlI+FI6rDlx",
      "include_colab_link": true
    },
    "kernelspec": {
      "name": "python3",
      "display_name": "Python 3"
    }
  },
  "cells": [
    {
      "cell_type": "markdown",
      "metadata": {
        "id": "view-in-github",
        "colab_type": "text"
      },
      "source": [
        "<a href=\"https://colab.research.google.com/github/cccaaannn/deep_learning_colab/blob/master/autoencoder_denoise.ipynb\" target=\"_parent\"><img src=\"https://colab.research.google.com/assets/colab-badge.svg\" alt=\"Open In Colab\"/></a>"
      ]
    },
    {
      "cell_type": "markdown",
      "metadata": {
        "id": "JD4xQg_fC2b5",
        "colab_type": "text"
      },
      "source": [
        "Download and unzip dataset"
      ]
    },
    {
      "cell_type": "code",
      "metadata": {
        "id": "SMLUUSc1Cz4D",
        "colab_type": "code",
        "colab": {}
      },
      "source": [
        "!wget https://download.microsoft.com/download/3/E/1/3E1C3F21-ECDB-4869-8368-6DEBA77B919F/kagglecatsanddogs_3367a.zip\n",
        "!unzip kagglecatsanddogs_3367a.zip"
      ],
      "execution_count": null,
      "outputs": []
    },
    {
      "cell_type": "markdown",
      "metadata": {
        "id": "dlio4TYyC4wx",
        "colab_type": "text"
      },
      "source": [
        "Install extra libs"
      ]
    },
    {
      "cell_type": "code",
      "metadata": {
        "id": "0nOonqPDC542",
        "colab_type": "code",
        "colab": {}
      },
      "source": [
        "!pip install imagepreprocessing"
      ],
      "execution_count": null,
      "outputs": []
    },
    {
      "cell_type": "code",
      "metadata": {
        "id": "zlx6hS5R-SsL",
        "colab_type": "code",
        "colab": {}
      },
      "source": [
        "from keras.layers import Dense, Flatten, Reshape, Input, InputLayer\n",
        "from keras.models import Sequential, Model\n",
        "import numpy as np\n",
        "import matplotlib.pyplot as plt"
      ],
      "execution_count": 1,
      "outputs": []
    },
    {
      "cell_type": "code",
      "metadata": {
        "id": "eRNlhsGpDBgn",
        "colab_type": "code",
        "colab": {}
      },
      "source": [
        "# imagepreprocessing\n",
        "from  imagepreprocessing.keras_functions import create_training_data_keras, make_prediction_from_array_keras\n",
        "from  imagepreprocessing.utilities import create_confusion_matrix, train_test_split"
      ],
      "execution_count": 2,
      "outputs": []
    },
    {
      "cell_type": "markdown",
      "metadata": {
        "id": "NC5YOduMTfS8",
        "colab_type": "text"
      },
      "source": [
        "set options"
      ]
    },
    {
      "cell_type": "code",
      "metadata": {
        "id": "j17HRlzOTDMb",
        "colab_type": "code",
        "colab": {}
      },
      "source": [
        "img_shape = (32,32,3)\n",
        "bottleneck_size = 1000\n",
        "nr_epochs = 20"
      ],
      "execution_count": 14,
      "outputs": []
    },
    {
      "cell_type": "markdown",
      "metadata": {
        "id": "5NPegbAPT7yU",
        "colab_type": "text"
      },
      "source": [
        "helper funcitons"
      ]
    },
    {
      "cell_type": "code",
      "metadata": {
        "id": "SjR4v3IcDyxR",
        "colab_type": "code",
        "colab": {}
      },
      "source": [
        "def apply_gaussian_noise(data, sigma=0.1):\n",
        "    noise = np.random.normal(loc=0.0, scale=sigma, size=data.shape)\n",
        "    return data + noise\n",
        "\n",
        "def predict_and_show(img, encoder, decoder):\n",
        "    \"\"\"Draws original, encoded and decoded images\"\"\"\n",
        "    # img[None] will have shape of (1, 32, 32, 3) which is the same as the model input\n",
        "    code = encoder.predict(img[None])[0]\n",
        "    reco = decoder.predict(code[None])[0]\n",
        "\n",
        "    plt.subplot(1,3,1)\n",
        "    plt.title(\"Original\")\n",
        "    plt.imshow(img)\n",
        "\n",
        "    plt.subplot(1,3,2)\n",
        "    plt.title(\"Code\")\n",
        "    plt.imshow(code.reshape([code.shape[-1]//2,-1]))\n",
        "\n",
        "    plt.subplot(1,3,3)\n",
        "    plt.title(\"Reconstructed\")\n",
        "    plt.imshow(reco)\n",
        "    plt.show()"
      ],
      "execution_count": 4,
      "outputs": []
    },
    {
      "cell_type": "markdown",
      "metadata": {
        "id": "jdGUj1FSToQz",
        "colab_type": "text"
      },
      "source": [
        "create training data"
      ]
    },
    {
      "cell_type": "code",
      "metadata": {
        "id": "CPbjLudZDJDc",
        "colab_type": "code",
        "colab": {}
      },
      "source": [
        "train_x, _, test_x, _  = create_training_data_keras(\"/content/PetImages\", image_size = img_shape[0], percent_to_use=0.1, validation_split=0.2, grayscale=False)"
      ],
      "execution_count": null,
      "outputs": []
    },
    {
      "cell_type": "markdown",
      "metadata": {
        "id": "Kb81uf72TuS2",
        "colab_type": "text"
      },
      "source": [
        "create autoencoder"
      ]
    },
    {
      "cell_type": "code",
      "metadata": {
        "id": "sihj_QpgEPrV",
        "colab_type": "code",
        "colab": {}
      },
      "source": [
        "# The encoder\n",
        "encoder = Sequential()\n",
        "encoder.add(InputLayer(img_shape))\n",
        "encoder.add(Flatten())\n",
        "encoder.add(Dense(bottleneck_size))\n",
        "\n",
        "# The decoder\n",
        "decoder = Sequential()\n",
        "decoder.add(InputLayer((bottleneck_size,)))\n",
        "decoder.add(Dense(np.prod(img_shape))) # np.prod(img_shape) is the same as 32*32*3, it's more generic than saying 3072\n",
        "decoder.add(Reshape(img_shape))\n",
        "\n",
        "\n",
        "input = Input(img_shape)\n",
        "bottleneck = encoder(input)\n",
        "reconstruction = decoder(bottleneck)\n",
        "autoencoder = Model(input, reconstruction)\n",
        "\n",
        "autoencoder.compile(optimizer='adamax', loss='mse')"
      ],
      "execution_count": 15,
      "outputs": []
    },
    {
      "cell_type": "markdown",
      "metadata": {
        "id": "7ohuRn_UUx1n",
        "colab_type": "text"
      },
      "source": [
        "train"
      ]
    },
    {
      "cell_type": "code",
      "metadata": {
        "id": "VITkdQxABY76",
        "colab_type": "code",
        "colab": {}
      },
      "source": [
        "history = autoencoder.fit(x = train_x, y = train_x, epochs = nr_epochs, validation_data=[test_x, test_x])"
      ],
      "execution_count": null,
      "outputs": []
    },
    {
      "cell_type": "markdown",
      "metadata": {
        "id": "aqCHQG9CUzc6",
        "colab_type": "text"
      },
      "source": [
        "train for denoising"
      ]
    },
    {
      "cell_type": "code",
      "metadata": {
        "id": "y3Bsb93qJ7-2",
        "colab_type": "code",
        "colab": {}
      },
      "source": [
        "for i in range(nr_epochs):\n",
        "    print(\"Epoch {0}/{1}, generating noised images\".format(i+1, nr_epochs))\n",
        "    train_x_noise = apply_gaussian_noise(train_x)\n",
        "    test_x_noise = apply_gaussian_noise(test_x)\n",
        "\n",
        "    autoencoder.fit(x=train_x_noise, y=train_x, epochs=1, validation_data=[test_x_noise, test_x])"
      ],
      "execution_count": null,
      "outputs": []
    },
    {
      "cell_type": "markdown",
      "metadata": {
        "id": "4216W4KoVtHJ",
        "colab_type": "text"
      },
      "source": [
        "predict"
      ]
    },
    {
      "cell_type": "code",
      "metadata": {
        "id": "0m1tdi3KKYYJ",
        "colab_type": "code",
        "colab": {}
      },
      "source": [
        "for i in range(5):\n",
        "    img = test_x[i]\n",
        "    predict_and_show(img, encoder, decoder)"
      ],
      "execution_count": null,
      "outputs": []
    },
    {
      "cell_type": "markdown",
      "metadata": {
        "id": "vgAhxbMDVrYA",
        "colab_type": "text"
      },
      "source": [
        "predict for noised images"
      ]
    },
    {
      "cell_type": "code",
      "metadata": {
        "id": "aUx5rkfZKX2Y",
        "colab_type": "code",
        "colab": {}
      },
      "source": [
        "test_x_noise = apply_gaussian_noise(test_x)\n",
        "for i in range(5):\n",
        "    img = test_x_noise[i]\n",
        "    predict_and_show(img, encoder, decoder)"
      ],
      "execution_count": null,
      "outputs": []
    }
  ]
}