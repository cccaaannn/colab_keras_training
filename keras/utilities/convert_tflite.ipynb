{
  "nbformat": 4,
  "nbformat_minor": 0,
  "metadata": {
    "colab": {
      "name": "convert_tflite",
      "provenance": [],
      "collapsed_sections": [],
      "toc_visible": true,
      "include_colab_link": true
    },
    "kernelspec": {
      "display_name": "Python 3",
      "name": "python3"
    },
    "accelerator": "GPU"
  },
  "cells": [
    {
      "cell_type": "markdown",
      "metadata": {
        "id": "view-in-github",
        "colab_type": "text"
      },
      "source": [
        "<a href=\"https://colab.research.google.com/github/cccaaannn/deep_learning_colab/blob/master/keras/utilities/convert_tflite.ipynb\" target=\"_parent\"><img src=\"https://colab.research.google.com/assets/colab-badge.svg\" alt=\"Open In Colab\"/></a>"
      ]
    },
    {
      "cell_type": "markdown",
      "metadata": {
        "id": "hFWXcDlUWfAF",
        "colab_type": "text"
      },
      "source": [
        "**Check the gpu**"
      ]
    },
    {
      "cell_type": "code",
      "metadata": {
        "id": "HoeiVuu3XY5K",
        "colab_type": "code",
        "colab": {}
      },
      "source": [
        "!nvidia-smi"
      ],
      "execution_count": null,
      "outputs": []
    },
    {
      "cell_type": "markdown",
      "metadata": {
        "id": "R1-Ul-NCdmCC",
        "colab_type": "text"
      },
      "source": [
        "**Download and unzip dataset**"
      ]
    },
    {
      "cell_type": "code",
      "metadata": {
        "id": "dnCUV3QDJ6Ty",
        "colab_type": "code",
        "colab": {}
      },
      "source": [
        "!wget https://download.microsoft.com/download/3/E/1/3E1C3F21-ECDB-4869-8368-6DEBA77B919F/kagglecatsanddogs_3367a.zip\n",
        "!unzip kagglecatsanddogs_3367a.zip"
      ],
      "execution_count": null,
      "outputs": []
    },
    {
      "cell_type": "markdown",
      "metadata": {
        "id": "NFN6zYVTdvX9",
        "colab_type": "text"
      },
      "source": [
        "**Install extra libs**"
      ]
    },
    {
      "cell_type": "code",
      "metadata": {
        "id": "ePbkJ7pAPS8V",
        "colab_type": "code",
        "colab": {}
      },
      "source": [
        "!pip install imagepreprocessing"
      ],
      "execution_count": null,
      "outputs": []
    },
    {
      "cell_type": "markdown",
      "metadata": {
        "id": "b2bmk3-uUuzs",
        "colab_type": "text"
      },
      "source": [
        "**Imports has to be tensorflow.keras**"
      ]
    },
    {
      "cell_type": "code",
      "metadata": {
        "id": "qK0KKRSrT4DP",
        "colab_type": "code",
        "colab": {}
      },
      "source": [
        "import warnings\n",
        "warnings.filterwarnings(\"ignore\")\n",
        "\n",
        "# keras and tf\n",
        "import tensorflow as tf\n",
        "from tensorflow import keras\n",
        "\n",
        "# models\n",
        "from tensorflow.keras.models import Sequential\n",
        "\n",
        "# backend\n",
        "from tensorflow.keras import optimizers, metrics, models\n",
        "import tensorflow.keras.backend as K\n",
        "\n",
        "# layers\n",
        "from tensorflow.keras.layers import Input, Flatten, Dense, Dropout, Activation\n",
        "from tensorflow.keras.layers import Conv2D, MaxPooling2D, GlobalAveragePooling2D, AveragePooling2D, BatchNormalization\n",
        "\n",
        "# optimizers\n",
        "from tensorflow.keras.optimizers import SGD\n",
        "\n",
        "# training\n",
        "from tensorflow.keras.callbacks import ModelCheckpoint\n",
        "\n",
        "# other libs\n",
        "import numpy as np\n",
        "import math\n",
        "import pickle\n",
        "import os"
      ],
      "execution_count": null,
      "outputs": []
    },
    {
      "cell_type": "code",
      "metadata": {
        "id": "f0F3mbu4cYJP",
        "colab_type": "code",
        "colab": {}
      },
      "source": [
        "# imagepreprocessing\n",
        "from  imagepreprocessing.keras_functions import create_training_data_keras, make_prediction_from_array_keras\n",
        "from  imagepreprocessing.utilities import create_confusion_matrix, train_test_split"
      ],
      "execution_count": null,
      "outputs": []
    },
    {
      "cell_type": "markdown",
      "metadata": {
        "id": "9EBGDP3Gd6Pe",
        "colab_type": "text"
      },
      "source": [
        "**Create training data**"
      ]
    },
    {
      "cell_type": "code",
      "metadata": {
        "id": "flap2p8OPDay",
        "colab_type": "code",
        "colab": {}
      },
      "source": [
        "x, y, test_x, test_y  = create_training_data_keras(\"/content/PetImages\", image_size=224, percent_to_use=0.5, validation_split=0.2, grayscale=True)"
      ],
      "execution_count": null,
      "outputs": []
    },
    {
      "cell_type": "markdown",
      "metadata": {
        "id": "ji1FKrj2eIUm",
        "colab_type": "text"
      },
      "source": [
        "**Create model**"
      ]
    },
    {
      "cell_type": "code",
      "metadata": {
        "id": "aQBUPmXc0nDr",
        "colab_type": "code",
        "colab": {}
      },
      "source": [
        "# model 7 with batch norm\n",
        "model = Sequential()\n",
        "model.add(Conv2D(16, (3,3), input_shape=x.shape[1:], activation='relu'))\n",
        "model.add(MaxPooling2D(pool_size=(2,2)))\n",
        "\n",
        "model.add(Conv2D(32, (3,3), activation='relu'))\n",
        "model.add(BatchNormalization())\n",
        "model.add(MaxPooling2D(pool_size=(2,2)))\n",
        "\n",
        "model.add(Conv2D(64, (3,3), activation='relu'))\n",
        "model.add(BatchNormalization())\n",
        "model.add(MaxPooling2D(pool_size=(2,2)))\n",
        "\n",
        "model.add(Conv2D(128, (3,3), activation='relu'))\n",
        "model.add(BatchNormalization())\n",
        "model.add(MaxPooling2D(pool_size=(2,2)))\n",
        "\n",
        "model.add(Conv2D(256, (3,3), activation='relu'))\n",
        "model.add(BatchNormalization())\n",
        "model.add(MaxPooling2D(pool_size=(2,2)))\n",
        "\n",
        "model.add(Conv2D(512, (3,3), activation='relu'))\n",
        "model.add(BatchNormalization())\n",
        "model.add(MaxPooling2D(pool_size=(2,2)))\n",
        "\n",
        "model.add(Flatten())\n",
        "\n",
        "model.add(Dense(2, activation='softmax'))"
      ],
      "execution_count": null,
      "outputs": []
    },
    {
      "cell_type": "markdown",
      "metadata": {
        "id": "Mb6Lf5Ure3ay",
        "colab_type": "text"
      },
      "source": [
        "**compile model**"
      ]
    },
    {
      "cell_type": "code",
      "metadata": {
        "id": "qW5ipxvWocDq",
        "colab_type": "code",
        "colab": {}
      },
      "source": [
        "opt = SGD(lr=0.001, momentum=0.9)\n",
        "model.compile(loss = \"categorical_crossentropy\", optimizer = opt, metrics=['accuracy'])"
      ],
      "execution_count": null,
      "outputs": []
    },
    {
      "cell_type": "markdown",
      "metadata": {
        "id": "_IhSXK2GJwvR",
        "colab_type": "text"
      },
      "source": [
        "checkpointer"
      ]
    },
    {
      "cell_type": "code",
      "metadata": {
        "id": "dp2Xfm6CmSPf",
        "colab_type": "code",
        "colab": {}
      },
      "source": [
        "checkpointer = ModelCheckpoint(filepath= \"/content/model\", verbose=1, monitor='val_loss', save_best_only=True)"
      ],
      "execution_count": null,
      "outputs": []
    },
    {
      "cell_type": "markdown",
      "metadata": {
        "id": "RcbN8jd7eMc-",
        "colab_type": "text"
      },
      "source": [
        "**Fit**"
      ]
    },
    {
      "cell_type": "code",
      "metadata": {
        "id": "7lhK1Lp7O8_D",
        "colab_type": "code",
        "colab": {}
      },
      "source": [
        "model.fit(x,y, validation_split=0.2, epochs=15, callbacks=[checkpointer])"
      ],
      "execution_count": null,
      "outputs": []
    },
    {
      "cell_type": "markdown",
      "metadata": {
        "id": "E_SVGTlxebVq",
        "colab_type": "text"
      },
      "source": [
        "**Evaluate**"
      ]
    },
    {
      "cell_type": "code",
      "metadata": {
        "id": "G0V3x9t4T5Pw",
        "colab_type": "code",
        "colab": {}
      },
      "source": [
        "class_names = [\"cat\", \"dog\"]\n",
        "\n",
        "# make prediction\n",
        "predictions = make_prediction_from_array_keras(test_x, model, print_output=False)\n",
        "\n",
        "# create confusion matrix\n",
        "cnf_matrix = create_confusion_matrix(predictions, test_y, class_names=class_names, one_hot=True)\n",
        "\n",
        "\n",
        "accuracy = (cnf_matrix[0][0]+cnf_matrix[1][1]) / sum(sum(cnf_matrix))\n",
        "\n",
        "prescision_dog = cnf_matrix[1][1]/(cnf_matrix[1][1]+cnf_matrix[0][1])\n",
        "recall_dog = cnf_matrix[1][1]/(cnf_matrix[1][1]+cnf_matrix[1][0])\n",
        "\n",
        "prescision_cat = cnf_matrix[0][0]/(cnf_matrix[0][0]+cnf_matrix[1][0])\n",
        "recall_cat = cnf_matrix[0][0]/(cnf_matrix[0][0]+cnf_matrix[0][1])\n",
        "\n",
        "\n",
        "print(\"accuracy {}\".format(accuracy))\n",
        "\n",
        "print(\"prescision_dog {} recall_dog {}\".format(prescision_dog,recall_dog))\n",
        "\n",
        "print(\"prescision_cat {} recall_cat {}\".format(prescision_cat,recall_cat))\n"
      ],
      "execution_count": null,
      "outputs": []
    },
    {
      "cell_type": "markdown",
      "metadata": {
        "id": "JaS7LQFibCmC",
        "colab_type": "text"
      },
      "source": [
        "**convert to tflite**"
      ]
    },
    {
      "cell_type": "code",
      "metadata": {
        "id": "aAwoS_7-QV7H",
        "colab_type": "code",
        "colab": {}
      },
      "source": [
        "\n",
        "# model = tf.keras.models.load_model('/content/model')\n",
        "converter = tf.lite.TFLiteConverter.from_keras_model(model)\n",
        "tflite_float_model = converter.convert()\n",
        "\n",
        "# show type\n",
        "print(\"type of the model is:\", type(model))\n",
        "print(\"type of the converted model is:\", type(tflite_float_model))\n",
        "\n",
        "# Show model size in KBs.\n",
        "float_model_size = len(tflite_float_model) / 1024\n",
        "print('Float model size = %dKBs.' % float_model_size)\n",
        "\n",
        "# save\n",
        "open(\"model.tflite\", \"wb\").write(tflite_float_model)"
      ],
      "execution_count": null,
      "outputs": []
    }
  ]
}
