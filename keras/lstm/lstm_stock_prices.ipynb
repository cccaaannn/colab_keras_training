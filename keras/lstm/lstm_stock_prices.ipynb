{
  "nbformat": 4,
  "nbformat_minor": 0,
  "metadata": {
    "colab": {
      "name": "lstm_stock_prices",
      "provenance": [],
      "collapsed_sections": [],
      "authorship_tag": "ABX9TyOodcLVrkFQ2DgWV6vk2bQ2",
      "include_colab_link": true
    },
    "kernelspec": {
      "name": "python3",
      "display_name": "Python 3"
    },
    "accelerator": "GPU"
  },
  "cells": [
    {
      "cell_type": "markdown",
      "metadata": {
        "id": "view-in-github",
        "colab_type": "text"
      },
      "source": [
        "<a href=\"https://colab.research.google.com/github/cccaaannn/deep_learning_colab/blob/master/keras/lstm/lstm_stock_prices.ipynb\" target=\"_parent\"><img src=\"https://colab.research.google.com/assets/colab-badge.svg\" alt=\"Open In Colab\"/></a>"
      ]
    },
    {
      "cell_type": "markdown",
      "metadata": {
        "id": "hFWXcDlUWfAF",
        "colab_type": "text"
      },
      "source": [
        "**check the gpu**"
      ]
    },
    {
      "cell_type": "code",
      "metadata": {
        "id": "HoeiVuu3XY5K",
        "colab_type": "code",
        "colab": {}
      },
      "source": [
        "!nvidia-smi"
      ],
      "execution_count": null,
      "outputs": []
    },
    {
      "cell_type": "markdown",
      "metadata": {
        "id": "0GcDNxyAf_Ue",
        "colab_type": "text"
      },
      "source": [
        "imports"
      ]
    },
    {
      "cell_type": "code",
      "metadata": {
        "id": "Xm_xf1pGWpMM",
        "colab_type": "code",
        "colab": {}
      },
      "source": [
        "# keras\n",
        "import keras\n",
        "from keras.models import Sequential\n",
        "from keras.layers import Dense, LSTM, Dropout\n",
        "\n",
        "# sklearn\n",
        "from sklearn.preprocessing import MinMaxScaler\n",
        "\n",
        "# other libs\n",
        "import pandas_datareader as web\n",
        "import matplotlib.pyplot as plt\n",
        "import pandas as pd\n",
        "import numpy as np\n",
        "import math\n",
        "\n",
        "plt.style.use('fivethirtyeight')"
      ],
      "execution_count": null,
      "outputs": []
    },
    {
      "cell_type": "markdown",
      "metadata": {
        "id": "L3p6PMN1f9g6",
        "colab_type": "text"
      },
      "source": [
        "load the data"
      ]
    },
    {
      "cell_type": "code",
      "metadata": {
        "id": "ceILN2-hWpRn",
        "colab_type": "code",
        "colab": {}
      },
      "source": [
        "df2 = web.DataReader('AAPL', data_source='yahoo', start='2012-01-01', end='2019-12-17') "
      ],
      "execution_count": 12,
      "outputs": []
    },
    {
      "cell_type": "code",
      "metadata": {
        "id": "uzYNdIE1FcvC",
        "colab_type": "code",
        "colab": {}
      },
      "source": [
        "df = pd.read_csv(\"/content/10y.csv\", index_col=0)\n",
        "# df = df[::-1]"
      ],
      "execution_count": 183,
      "outputs": []
    },
    {
      "cell_type": "code",
      "metadata": {
        "id": "B9xl3s2xCeh2",
        "colab_type": "code",
        "colab": {}
      },
      "source": [
        "df = df.tail(240)"
      ],
      "execution_count": 129,
      "outputs": []
    },
    {
      "cell_type": "code",
      "metadata": {
        "id": "F5wW3VrxWpJd",
        "colab_type": "code",
        "colab": {}
      },
      "source": [
        "print(df.shape) \n",
        "df.tail()"
      ],
      "execution_count": null,
      "outputs": []
    },
    {
      "cell_type": "markdown",
      "metadata": {
        "id": "ATSFlsCtf7gQ",
        "colab_type": "text"
      },
      "source": [
        "set options"
      ]
    },
    {
      "cell_type": "code",
      "metadata": {
        "id": "vdwF2P69Mwxa",
        "colab_type": "code",
        "colab": {}
      },
      "source": [
        "plot_title = \"Prices\"\n",
        "df_col_to_use = \"Kapanış(TL)\"\n",
        "model_path = \"/content/drive/My Drive/models/model.h5\"\n",
        "\n",
        "test_split = 0.05\n",
        "lstm_step = 60\n",
        "batch_size = 1\n",
        "nr_epochs = 3"
      ],
      "execution_count": 380,
      "outputs": []
    },
    {
      "cell_type": "markdown",
      "metadata": {
        "id": "3vOCPqiWhXhp",
        "colab_type": "text"
      },
      "source": [
        "plot data"
      ]
    },
    {
      "cell_type": "code",
      "metadata": {
        "id": "GYzJ-yiNWouD",
        "colab_type": "code",
        "colab": {}
      },
      "source": [
        "plt.figure(figsize=(16,8))\n",
        "plt.title(plot_title)\n",
        "plt.plot(df[df_col_to_use])\n",
        "plt.xlabel('Date',fontsize=18)\n",
        "plt.ylabel('Price',fontsize=18)\n",
        "plt.show()"
      ],
      "execution_count": null,
      "outputs": []
    },
    {
      "cell_type": "markdown",
      "metadata": {
        "id": "0tNT5fbaytMM",
        "colab_type": "text"
      },
      "source": [
        "helper functions"
      ]
    },
    {
      "cell_type": "code",
      "metadata": {
        "id": "glcR0H14saGq",
        "colab_type": "code",
        "colab": {}
      },
      "source": [
        "def create_training_data_lstm(data, lstm_step = 60):\n",
        "    # train data processing\n",
        "    x, y = [], []\n",
        "\n",
        "    # create_sequence\n",
        "    for i in range(lstm_step, len(data)):\n",
        "        x.append(data[i-lstm_step:i,0])\n",
        "        y.append(data[i,0])\n",
        "    \n",
        "    # conver to numpy array\n",
        "    x = np.array(x)\n",
        "    y =np.array(y)\n",
        "\n",
        "    #Reshape the data into the shape accepted by the LSTM\n",
        "    x = np.reshape(x, (x.shape[0], lstm_step, 1))\n",
        "\n",
        "    return x, y"
      ],
      "execution_count": 16,
      "outputs": []
    },
    {
      "cell_type": "code",
      "metadata": {
        "id": "3Ke5elpCXuuj",
        "colab_type": "code",
        "colab": {}
      },
      "source": [
        "def rmse(predictions, actual):\n",
        "    return np.sqrt(np.mean(((predictions- actual)**2)))"
      ],
      "execution_count": 17,
      "outputs": []
    },
    {
      "cell_type": "code",
      "metadata": {
        "id": "kt_LGP4b9WZe",
        "colab_type": "code",
        "colab": {}
      },
      "source": [
        "def mse_percentage(predictions, actual): \n",
        "    rmse_error = np.mean(((predictions - actual)**2))\n",
        "    pred_len = len(predictions)\n",
        "    rmse_percent_error = ((100 * rmse_error) / pred_len)\n",
        "    return rmse_percent_error"
      ],
      "execution_count": 73,
      "outputs": []
    },
    {
      "cell_type": "markdown",
      "metadata": {
        "id": "zRxYDUEIyvz6",
        "colab_type": "text"
      },
      "source": [
        "crate training and testing data for lstm"
      ]
    },
    {
      "cell_type": "code",
      "metadata": {
        "id": "Q6Zlnspgs1Ua",
        "colab_type": "code",
        "colab": {}
      },
      "source": [
        "data = df.filter([df_col_to_use])\n",
        "dataset = data.values\n",
        "\n",
        "scaler = MinMaxScaler(feature_range=(0, 1)) \n",
        "scaled_data = scaler.fit_transform(dataset)\n",
        "\n",
        "train_size = math.ceil(len(scaled_data) * (1-test_split))\n",
        "test_size = len(scaled_data) - train_size\n",
        "train_data = scaled_data[0 : train_size, :]\n",
        "# test_data = scaled_data[train_size : len(scaled_data), :]\n",
        "test_data = scaled_data[train_size - lstm_step: , : ]\n",
        "\n",
        "x_train, y_train = create_training_data_lstm(train_data, lstm_step = lstm_step)\n",
        "x_test, y_test = create_training_data_lstm(test_data, lstm_step = lstm_step)\n",
        "\n",
        "print(len(x_train), len(x_test))"
      ],
      "execution_count": null,
      "outputs": []
    },
    {
      "cell_type": "markdown",
      "metadata": {
        "id": "oLDEZpoqSzUA",
        "colab_type": "text"
      },
      "source": [
        "build lstm model"
      ]
    },
    {
      "cell_type": "code",
      "metadata": {
        "id": "BEsFRIOCXdLr",
        "colab_type": "code",
        "colab": {}
      },
      "source": [
        "model = Sequential()\n",
        "model.add(LSTM(units=50, return_sequences=True,input_shape=(x_train.shape[1],1)))\n",
        "model.add(LSTM(units=50, return_sequences=False))\n",
        "model.add(Dense(units=25))\n",
        "model.add(Dense(units=1))\n",
        "\n",
        "model.compile(optimizer='adam', loss='mean_squared_error')"
      ],
      "execution_count": 383,
      "outputs": []
    },
    {
      "cell_type": "code",
      "metadata": {
        "id": "x2Ma7XrRLIOM",
        "colab_type": "code",
        "colab": {}
      },
      "source": [
        "model = Sequential()\n",
        "model.add(LSTM(units=50,return_sequences=True,input_shape=(x_train.shape[1], 1)))\n",
        "# model.add(Dropout(0.2))\n",
        "model.add(LSTM(units=50,return_sequences=True))\n",
        "# model.add(Dropout(0.2))\n",
        "model.add(LSTM(units=50,return_sequences=True))\n",
        "# model.add(Dropout(0.2))\n",
        "model.add(LSTM(units=25))\n",
        "# model.add(Dropout(0.2))\n",
        "model.add(Dense(units=1))\n",
        "model.compile(optimizer='adam',loss='mean_squared_error')"
      ],
      "execution_count": 237,
      "outputs": []
    },
    {
      "cell_type": "markdown",
      "metadata": {
        "id": "gbuUEOnqSxX6",
        "colab_type": "text"
      },
      "source": [
        "train"
      ]
    },
    {
      "cell_type": "code",
      "metadata": {
        "id": "zeyCFDyzauGJ",
        "colab_type": "code",
        "colab": {}
      },
      "source": [
        "model.fit(x_train, y_train, batch_size = batch_size, epochs = nr_epochs)"
      ],
      "execution_count": null,
      "outputs": []
    },
    {
      "cell_type": "markdown",
      "metadata": {
        "id": "2xs48_APS48H",
        "colab_type": "text"
      },
      "source": [
        "testing "
      ]
    },
    {
      "cell_type": "code",
      "metadata": {
        "id": "ZdbT3g19a2rv",
        "colab_type": "code",
        "colab": {}
      },
      "source": [
        "predictions = model.predict(x_test)\n",
        "predictions = scaler.inverse_transform(predictions) # Undo scaling"
      ],
      "execution_count": 385,
      "outputs": []
    },
    {
      "cell_type": "markdown",
      "metadata": {
        "id": "l3xLSyA_hy9e",
        "colab_type": "text"
      },
      "source": [
        "rmse"
      ]
    },
    {
      "cell_type": "code",
      "metadata": {
        "id": "esUzanWKa24L",
        "colab_type": "code",
        "colab": {}
      },
      "source": [
        "print(\"rmse\", rmse(predictions, y_test))\n",
        "# print(\"mse %\", mse_percentage(predictions, y_test))"
      ],
      "execution_count": null,
      "outputs": []
    },
    {
      "cell_type": "markdown",
      "metadata": {
        "id": "ugtP1ELZ8e08",
        "colab_type": "text"
      },
      "source": [
        "create validation table"
      ]
    },
    {
      "cell_type": "code",
      "metadata": {
        "id": "IYXoEcuo8aub",
        "colab_type": "code",
        "colab": {}
      },
      "source": [
        "data = df.filter([df_col_to_use])\n",
        "train = data[:train_size]\n",
        "valid = data[train_size:]\n",
        "valid['Predictions'] = predictions"
      ],
      "execution_count": null,
      "outputs": []
    },
    {
      "cell_type": "code",
      "metadata": {
        "id": "qEKa-qH5a29M",
        "colab_type": "code",
        "colab": {}
      },
      "source": [
        "valid.tail(15)"
      ],
      "execution_count": null,
      "outputs": []
    },
    {
      "cell_type": "markdown",
      "metadata": {
        "id": "wnkZOnkizDGO",
        "colab_type": "text"
      },
      "source": [
        "plot predicitons for validation"
      ]
    },
    {
      "cell_type": "code",
      "metadata": {
        "id": "CjGcinvJgdgk",
        "colab_type": "code",
        "colab": {
          "base_uri": "https://localhost:8080/",
          "height": 558
        },
        "outputId": "0ffafbd0-594a-478f-a372-db9895b14662"
      },
      "source": [
        "plt.figure(figsize=(16,8))\n",
        "plt.title('Model')\n",
        "plt.xlabel('Date', fontsize=18)\n",
        "plt.ylabel('Price', fontsize=18)\n",
        "plt.plot(train[df_col_to_use])\n",
        "plt.plot(valid[[df_col_to_use, 'Predictions']])\n",
        "plt.legend(['Train', 'Val', 'Predictions'], loc='lower right')\n",
        "plt.show()"
      ],
      "execution_count": 389,
      "outputs": [
        {
          "output_type": "display_data",
          "data": {
            "image/png": "[encoded data removed]",
            "text/plain": [
              "<Figure size 1152x576 with 1 Axes>"
            ]
          },
          "metadata": {
            "tags": []
          }
        }
      ]
    },
    {
      "cell_type": "markdown",
      "metadata": {
        "id": "oBAvs0e90cbu",
        "colab_type": "text"
      },
      "source": [
        "save model"
      ]
    },
    {
      "cell_type": "code",
      "metadata": {
        "id": "byI9sqqN0dgh",
        "colab_type": "code",
        "colab": {}
      },
      "source": [
        "model.save(model_path)"
      ],
      "execution_count": 19,
      "outputs": []
    },
    {
      "cell_type": "markdown",
      "metadata": {
        "id": "djNFgAn1Hvr-",
        "colab_type": "text"
      },
      "source": [
        "predict single day"
      ]
    },
    {
      "cell_type": "markdown",
      "metadata": {
        "id": "jdgoM68T0UJr",
        "colab_type": "text"
      },
      "source": [
        "connect to drive"
      ]
    },
    {
      "cell_type": "code",
      "metadata": {
        "id": "4HyrIKOAz0cO",
        "colab_type": "code",
        "colab": {}
      },
      "source": [
        "from google.colab import drive\n",
        "drive.mount('/content/drive')"
      ],
      "execution_count": null,
      "outputs": []
    },
    {
      "cell_type": "markdown",
      "metadata": {
        "id": "wr6th2tB0Wde",
        "colab_type": "text"
      },
      "source": [
        "load model"
      ]
    },
    {
      "cell_type": "code",
      "metadata": {
        "id": "e0M6QdAJz6eL",
        "colab_type": "code",
        "colab": {}
      },
      "source": [
        "model = keras.models.load_model(model_path)"
      ],
      "execution_count": 7,
      "outputs": []
    },
    {
      "cell_type": "markdown",
      "metadata": {
        "id": "UoRvBeMp0Zo9",
        "colab_type": "text"
      },
      "source": [
        "make prediciton"
      ]
    },
    {
      "cell_type": "code",
      "metadata": {
        "id": "Pn0Vv3iwBllF",
        "colab_type": "code",
        "colab": {}
      },
      "source": [
        "new_df = df.filter([df_col_to_use])\n",
        "dataset = new_df.values\n",
        "\n",
        "# last_days = new_df[-61:-1].values # bugun\n",
        "last_days = new_df[-lstm_step:].values # yarın\n",
        "\n",
        "scaler = MinMaxScaler(feature_range=(0, 1)) \n",
        "scaled_data = scaler.fit_transform(dataset)\n",
        "\n",
        "last_days_scaled = scaler.transform(last_days)\n",
        "\n",
        "X_test = []\n",
        "X_test.append(last_days_scaled)\n",
        "X_test = np.array(X_test)\n",
        "X_test = np.reshape(X_test, (X_test.shape[0], X_test.shape[1], 1))\n",
        "pred_price = model.predict(X_test)\n",
        "\n",
        "pred_price = scaler.inverse_transform(pred_price)\n",
        "\n",
        "print(pred_price)"
      ],
      "execution_count": null,
      "outputs": []
    }
  ]
}
