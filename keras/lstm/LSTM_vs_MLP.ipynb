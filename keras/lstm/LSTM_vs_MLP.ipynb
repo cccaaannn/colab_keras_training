{
  "nbformat": 4,
  "nbformat_minor": 0,
  "metadata": {
    "colab": {
      "name": "LSTM_vs_MLP",
      "provenance": [],
      "collapsed_sections": [],
      "authorship_tag": "ABX9TyNEGo7oQvffhOVH7Rfu/Y+Z",
      "include_colab_link": true
    },
    "kernelspec": {
      "name": "python3",
      "display_name": "Python 3"
    },
    "accelerator": "GPU"
  },
  "cells": [
    {
      "cell_type": "markdown",
      "metadata": {
        "id": "view-in-github",
        "colab_type": "text"
      },
      "source": [
        "<a href=\"https://colab.research.google.com/github/cccaaannn/deep_learning_colab/blob/master/LSTM_vs_MLP.ipynb\" target=\"_parent\"><img src=\"https://colab.research.google.com/assets/colab-badge.svg\" alt=\"Open In Colab\"/></a>"
      ]
    },
    {
      "cell_type": "markdown",
      "metadata": {
        "id": "6rEY26AAcwCK",
        "colab_type": "text"
      },
      "source": [
        "questions"
      ]
    },
    {
      "cell_type": "markdown",
      "metadata": {
        "id": "8hfzasl8f2F5",
        "colab_type": "text"
      },
      "source": [
        "The plots and results that will be generated in this homework:\n",
        "\n",
        "1) Plot of the original dataset.\n",
        "\n",
        "2) Plot of mean squared error of LSTM-RNN with changing timestep on test set.\n",
        "\n",
        "3) Plot of mean squared error of MLP with changing timestep on test set.\n",
        "\n",
        "4) Plot of the predictions of best MLP and LSTM-RNNs models along with the actual values of training set.\n",
        "\n",
        "5) Plot of the predictions of best MLP and LSTM-RNNs models along with the actual values of test set.\n",
        "\n",
        "6) Table including the Mean Squared Error and Mean Absolute error for both training and test sets."
      ]
    },
    {
      "cell_type": "markdown",
      "metadata": {
        "id": "Wx1A5t88zbHy",
        "colab_type": "text"
      },
      "source": [
        "imports\n"
      ]
    },
    {
      "cell_type": "code",
      "metadata": {
        "id": "xBtlO9_Xzm9n",
        "colab_type": "code",
        "colab": {}
      },
      "source": [
        "from keras.models import Sequential, load_model\n",
        "from keras.layers import Dense, Dropout, LSTM, Activation\n",
        "from keras.callbacks import EarlyStopping\n",
        "\n",
        "from sklearn.preprocessing import StandardScaler, MinMaxScaler\n",
        "from sklearn.metrics import mean_squared_error, mean_absolute_error\n",
        "\n",
        "import math\n",
        "import numpy as np\n",
        "import pandas as pd\n",
        "import seaborn as sns\n",
        "import matplotlib.pyplot as plt\n",
        "%matplotlib inline"
      ],
      "execution_count": 0,
      "outputs": []
    },
    {
      "cell_type": "markdown",
      "metadata": {
        "id": "wURzboeI64cu",
        "colab_type": "text"
      },
      "source": [
        "load data"
      ]
    },
    {
      "cell_type": "code",
      "metadata": {
        "id": "WppMZv4MzggQ",
        "colab_type": "code",
        "colab": {}
      },
      "source": [
        "df = pd.read_csv('data.csv', index_col=0, sep = ',')\n",
        "df"
      ],
      "execution_count": 0,
      "outputs": []
    },
    {
      "cell_type": "markdown",
      "metadata": {
        "id": "8ATCiEHRereG",
        "colab_type": "text"
      },
      "source": [
        "plot dataframe"
      ]
    },
    {
      "cell_type": "code",
      "metadata": {
        "id": "D1_BFfAGerCb",
        "colab_type": "code",
        "colab": {}
      },
      "source": [
        "plt.plot(df)\n",
        "plt.show()"
      ],
      "execution_count": 0,
      "outputs": []
    },
    {
      "cell_type": "markdown",
      "metadata": {
        "id": "-jqIkdcaldrk",
        "colab_type": "text"
      },
      "source": [
        "better plot"
      ]
    },
    {
      "cell_type": "code",
      "metadata": {
        "id": "YLyz3B8VDipw",
        "colab_type": "code",
        "colab": {}
      },
      "source": [
        "import matplotlib.dates as mdates\n",
        "fig, ax = plt.subplots()\n",
        "fig.autofmt_xdate()\n",
        "plt.xticks(np.arange(0, 3000, 200))\n",
        "ax.fmt_xdata = mdates.DateFormatter('%Y-%m-%d')\n",
        "ax.plot(df)"
      ],
      "execution_count": 0,
      "outputs": []
    },
    {
      "cell_type": "markdown",
      "metadata": {
        "id": "Dbp3-h8ZeyiG",
        "colab_type": "text"
      },
      "source": [
        "split train test"
      ]
    },
    {
      "cell_type": "code",
      "metadata": {
        "id": "C0_PUcW02C9F",
        "colab_type": "code",
        "colab": {}
      },
      "source": [
        "mydataset = df.values\n",
        "myscaler = StandardScaler()\n",
        "mydataset = myscaler.fit_transform(mydataset)\n",
        "\n",
        "train_size = int(len(mydataset) * 0.7)\n",
        "test_size = len(mydataset) - train_size\n",
        "train, test = mydataset[0:train_size,:], mydataset[train_size:len(mydataset),:]\n",
        "print(len(train), len(test))"
      ],
      "execution_count": 0,
      "outputs": []
    },
    {
      "cell_type": "markdown",
      "metadata": {
        "id": "45nZwv2We4MY",
        "colab_type": "text"
      },
      "source": [
        "set options"
      ]
    },
    {
      "cell_type": "code",
      "metadata": {
        "id": "LFaE_MEgbjAy",
        "colab_type": "code",
        "colab": {}
      },
      "source": [
        "batch_size = 8 \n",
        "timestep = 16  \n",
        "n_epochs = 100"
      ],
      "execution_count": 0,
      "outputs": []
    },
    {
      "cell_type": "markdown",
      "metadata": {
        "id": "klf0PJl8e6YJ",
        "colab_type": "text"
      },
      "source": [
        "create sequence"
      ]
    },
    {
      "cell_type": "code",
      "metadata": {
        "id": "UXbS4iQ45Q9M",
        "colab_type": "code",
        "colab": {}
      },
      "source": [
        "def create_sequence(dataset, window):\n",
        "    dataX, dataY = [], []\n",
        "    for i in range(len(dataset)-(window+1)):\n",
        "        dataX.append(dataset[i:(i+window), 0])\n",
        "        dataY.append(dataset[i + window, 0])\n",
        "    \n",
        "    return np.array(dataX), np.array(dataY)\n",
        "\n",
        "# reshape into X=t and Y=t+1\n",
        "trainX, trainY = create_sequence(train, timestep)\n",
        "testX, testY = create_sequence(test, timestep)"
      ],
      "execution_count": 0,
      "outputs": []
    },
    {
      "cell_type": "markdown",
      "metadata": {
        "id": "_pcg15D_eijA",
        "colab_type": "text"
      },
      "source": [
        "reshape for lstm"
      ]
    },
    {
      "cell_type": "code",
      "metadata": {
        "id": "lytRVjv2eTO8",
        "colab_type": "code",
        "colab": {}
      },
      "source": [
        "trainX = np.reshape(trainX, (trainX.shape[0], timestep, 1))\n",
        "testX = np.reshape(testX, (testX.shape[0], timestep, 1))"
      ],
      "execution_count": 0,
      "outputs": []
    },
    {
      "cell_type": "markdown",
      "metadata": {
        "id": "DGUFmMP4cUxm",
        "colab_type": "text"
      },
      "source": [
        "LSTM\n"
      ]
    },
    {
      "cell_type": "code",
      "metadata": {
        "id": "mJWGPlye2FLX",
        "colab_type": "code",
        "colab": {}
      },
      "source": [
        "model = Sequential()\n",
        "model.add(LSTM(units=20, input_shape=(timestep, 1),return_sequences=False, stateful=False))\n",
        "model.add(Dropout(0.2))\n",
        "model.add(Dense(1)) \n",
        "model.compile(loss='mean_squared_error', optimizer='adam')"
      ],
      "execution_count": 0,
      "outputs": []
    },
    {
      "cell_type": "markdown",
      "metadata": {
        "id": "MhYKVPUGcSx6",
        "colab_type": "text"
      },
      "source": [
        "MLP"
      ]
    },
    {
      "cell_type": "code",
      "metadata": {
        "id": "xB3LliHc573N",
        "colab_type": "code",
        "colab": {}
      },
      "source": [
        "model = Sequential()\n",
        "model.add(Dense(12, input_dim=timestep, activation='relu'))\n",
        "model.add(Dense(8, activation='relu'))\n",
        "model.add(Dense(1))\n",
        "model.compile(loss='mean_squared_error', optimizer='adam')"
      ],
      "execution_count": 0,
      "outputs": []
    },
    {
      "cell_type": "markdown",
      "metadata": {
        "id": "lhe4pap9b16o",
        "colab_type": "text"
      },
      "source": [
        "fit"
      ]
    },
    {
      "cell_type": "code",
      "metadata": {
        "id": "PG450IyH5FBS",
        "colab_type": "code",
        "colab": {}
      },
      "source": [
        "model.fit(trainX, trainY, batch_size=batch_size, epochs=n_epochs)"
      ],
      "execution_count": 0,
      "outputs": []
    },
    {
      "cell_type": "markdown",
      "metadata": {
        "id": "EIWcfxdMb42A",
        "colab_type": "text"
      },
      "source": [
        "predict"
      ]
    },
    {
      "cell_type": "code",
      "metadata": {
        "id": "qF1Bfetbb8Cc",
        "colab_type": "code",
        "colab": {}
      },
      "source": [
        "trainPredict = model.predict(trainX, batch_size=batch_size)\n",
        "testPredict = model.predict(testX, batch_size=1)"
      ],
      "execution_count": 0,
      "outputs": []
    },
    {
      "cell_type": "markdown",
      "metadata": {
        "id": "m-iuc-aicmIf",
        "colab_type": "text"
      },
      "source": [
        "evaluate\n"
      ]
    },
    {
      "cell_type": "code",
      "metadata": {
        "id": "k1P2H27I5ofI",
        "colab_type": "code",
        "colab": {}
      },
      "source": [
        "# invert predictions\n",
        "trainPredict = myscaler.inverse_transform(trainPredict)\n",
        "trainY = myscaler.inverse_transform([trainY])\n",
        "testPredict = myscaler.inverse_transform(testPredict)\n",
        "testY = myscaler.inverse_transform([testY])\n",
        "\n",
        "# evaluate\n",
        "trainmse = mean_squared_error(trainY[0], trainPredict[:,0])\n",
        "testmse = mean_squared_error(testY[0], testPredict[:,0])\n",
        "trainmae = mean_absolute_error(trainY[0], trainPredict[:,0])\n",
        "testmae = mean_absolute_error(testY[0], testPredict[:,0])\n",
        "\n",
        "print('Train MSE: {0:.2f}'.format(trainmse))\n",
        "print('Test MSE: {0:.2f}'.format(testmse))\n",
        "\n",
        "print('Train MAE: {0:.2f}'.format(trainmae))\n",
        "print('Test MAE: {0:.2f}'.format(testmae))"
      ],
      "execution_count": 0,
      "outputs": []
    },
    {
      "cell_type": "markdown",
      "metadata": {
        "id": "CYMVeKhSfH1q",
        "colab_type": "text"
      },
      "source": [
        "plot predictions"
      ]
    },
    {
      "cell_type": "code",
      "metadata": {
        "id": "iAkK6F0Y5zna",
        "colab_type": "code",
        "colab": {}
      },
      "source": [
        "# shift train predictions for plotting\n",
        "trainPredictshift = np.empty_like(mydataset)\n",
        "trainPredictshift[:, :] = np.nan\n",
        "trainPredictshift[timestep:len(trainPredict)+timestep, :] = trainPredict\n",
        "# shift test predictions for plotting\n",
        "testPredictshift = np.empty_like(mydataset)\n",
        "testPredictshift[:, :] = np.nan\n",
        "testPredictshift[len(trainPredict)+(timestep*2)+1:len(mydataset)-1, :] = testPredict\n",
        "\n",
        "# plot predictions\n",
        "plt.plot(mydataset, label='dataset')\n",
        "plt.plot(trainPredictshift, label='train predictions')\n",
        "plt.legend()\n",
        "plt.show()"
      ],
      "execution_count": 0,
      "outputs": []
    },
    {
      "cell_type": "code",
      "metadata": {
        "id": "-R5S-643g1EE",
        "colab_type": "code",
        "colab": {}
      },
      "source": [
        "plt.plot(mydataset, label='dataset')\n",
        "plt.plot(testPredictshift, label='test predictions')\n",
        "plt.legend()\n",
        "plt.show()"
      ],
      "execution_count": 0,
      "outputs": []
    },
    {
      "cell_type": "markdown",
      "metadata": {
        "id": "TQkX30nd-Jjd",
        "colab_type": "text"
      },
      "source": [
        "test different time steps"
      ]
    },
    {
      "cell_type": "code",
      "metadata": {
        "id": "AhFtt0troveQ",
        "colab_type": "code",
        "colab": {}
      },
      "source": [
        "mses = []\n",
        "time_steps = [1,2,3,4,5,6,7,8,9,10,11,12,13,14,15,16,17,18,19,20,21,22,23,24,25,26,27,28,29,30,31,32]\n",
        "for time_step in time_steps:\n",
        "\n",
        "    # create sequence\n",
        "    trainX, trainY = create_sequence(train, timestep)\n",
        "    testX, testY = create_sequence(test, timestep)\n",
        "\n",
        "    # lstm\n",
        "    trainX = np.reshape(trainX, (trainX.shape[0], timestep, 1))\n",
        "    testX = np.reshape(testX, (testX.shape[0], timestep, 1))\n",
        "    model = Sequential()\n",
        "    model.add(LSTM(units=20, input_shape=(timestep, 1),return_sequences=False, stateful=False))\n",
        "    model.add(Dropout(0.2))\n",
        "    model.add(Dense(1)) \n",
        "    model.compile(loss='mean_squared_error', optimizer='adam')\n",
        "\n",
        "    # Multilayer Perceptron\n",
        "    # model = Sequential()\n",
        "    # model.add(Dense(12, input_dim=timestep, activation='relu'))\n",
        "    # model.add(Dense(8, activation='relu'))\n",
        "    # model.add(Dense(1))\n",
        "    # model.compile(loss='mean_squared_error', optimizer='adam')\n",
        "\n",
        "\n",
        "    # fit\n",
        "    model.fit(trainX, trainY, batch_size=batch_size, epochs=5)\n",
        "\n",
        "\n",
        "    # predict\n",
        "    trainPredict = model.predict(trainX, batch_size=batch_size)\n",
        "    testPredict = model.predict(testX, batch_size=1)\n",
        "    trainPredict = myscaler.inverse_transform(trainPredict)\n",
        "    trainY = myscaler.inverse_transform([trainY])\n",
        "    testPredict = myscaler.inverse_transform(testPredict)\n",
        "    testY = myscaler.inverse_transform([testY])\n",
        "    testmse = mean_squared_error(testY[0], testPredict[:,0])\n",
        "    mses.append(testmse)\n",
        "    print('Test MSE: {0:.2f}'.format(testmse))\n",
        "\n",
        "\n",
        "print(mses)\n",
        "\n",
        "plt.plot(np.array(time_steps), np.array(mses),label=\"mse's\")\n",
        "plt.legend()\n"
      ],
      "execution_count": 0,
      "outputs": []
    }
  ]
}