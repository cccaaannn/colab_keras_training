{
  "nbformat": 4,
  "nbformat_minor": 0,
  "metadata": {
    "colab": {
      "name": "binary_addition_mlp",
      "provenance": [],
      "collapsed_sections": [],
      "authorship_tag": "ABX9TyMdtkR30+/CvzUnCqmDNZt9",
      "include_colab_link": true
    },
    "kernelspec": {
      "name": "python3",
      "display_name": "Python 3"
    },
    "accelerator": "GPU"
  },
  "cells": [
    {
      "cell_type": "markdown",
      "metadata": {
        "id": "view-in-github",
        "colab_type": "text"
      },
      "source": [
        "<a href=\"https://colab.research.google.com/github/cccaaannn/deep_learning_colab/blob/master/binary_addition_mlp.ipynb\" target=\"_parent\"><img src=\"https://colab.research.google.com/assets/colab-badge.svg\" alt=\"Open In Colab\"/></a>"
      ]
    },
    {
      "cell_type": "code",
      "metadata": {
        "id": "34UyMKgUUIXf",
        "colab_type": "code",
        "colab": {}
      },
      "source": [
        "# keras and tf\n",
        "import tensorflow as tf\n",
        "import keras\n",
        "\n",
        "# models\n",
        "from keras.models import Sequential\n",
        "\n",
        "# layers\n",
        "from keras.layers import Input, add, Conv2D, Flatten, Dense, Dropout, Activation, MaxPooling2D, LSTM\n",
        "\n",
        "# optimizers\n",
        "from keras.optimizers import SGD\n",
        "\n",
        "# numpy\n",
        "import numpy as np"
      ],
      "execution_count": null,
      "outputs": []
    },
    {
      "cell_type": "code",
      "metadata": {
        "id": "SEllsNQ8iO95",
        "colab_type": "code",
        "colab": {}
      },
      "source": [
        "def pad_and_seperate_binaries(binaries, pad_number = 8):\n",
        "    for i in range(len(binaries)):\n",
        "        binaries[i] = binaries[i].replace(\"0b\",\"\")\n",
        "\n",
        "    for i in range(len(binaries)):\n",
        "        if(len(binaries[i]) < pad_number):\n",
        "            binaries[i] = \"0\"*(pad_number-len(binaries[i])) + binaries[i]\n",
        "\n",
        "\n",
        "    for i in range(len(binaries)):\n",
        "        binaries[i] = list(map(int,list(binaries[i])))\n",
        "    \n",
        "    return binaries\n"
      ],
      "execution_count": 2,
      "outputs": []
    },
    {
      "cell_type": "code",
      "metadata": {
        "id": "sqpjx377WQS8",
        "colab_type": "code",
        "colab": {}
      },
      "source": [
        "binaries = []\n",
        "sums = []\n",
        "\n",
        "for b in range(256):\n",
        "    binaries.append(bin(b))\n",
        "\n",
        "for i in binaries:\n",
        "    for j in binaries:\n",
        "        sums.append(bin(int(i, 2) + int(j, 2)))\n",
        "\n",
        "\n",
        "binaries = pad_and_seperate_binaries(binaries)\n",
        "sums = pad_and_seperate_binaries(sums, pad_number=9)\n",
        "\n",
        "x = []\n",
        "for i in binaries:\n",
        "    for j in binaries:\n",
        "        x.append(i+j)  \n",
        "\n",
        "\n",
        "x = np.array(x)\n",
        "y = np.array(sums)\n"
      ],
      "execution_count": 4,
      "outputs": []
    },
    {
      "cell_type": "code",
      "metadata": {
        "id": "bWgRzpTokTkS",
        "colab_type": "code",
        "colab": {}
      },
      "source": [
        "model = Sequential()\n",
        "model.add(Dense(64, activation='relu', input_dim=16))\n",
        "\n",
        "model.add(Dense(64, activation='relu'))\n",
        "\n",
        "model.add(Dense(32, activation='relu'))\n",
        "\n",
        "model.add(Dense(16, activation='relu'))\n",
        "\n",
        "model.add(Dense(9, activation='softmax'))\n",
        "\n",
        "\n",
        "opt = SGD(lr=0.01, momentum=0.9)\n",
        "model.compile(loss = \"mse\", optimizer = opt, metrics=['accuracy'])"
      ],
      "execution_count": 5,
      "outputs": []
    },
    {
      "cell_type": "code",
      "metadata": {
        "id": "XCU2pt2zle2W",
        "colab_type": "code",
        "colab": {}
      },
      "source": [
        "model.fit(x,y,epochs=50)"
      ],
      "execution_count": null,
      "outputs": []
    }
  ]
}