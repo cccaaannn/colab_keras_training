{
  "cells": [
    {
      "attachments": {},
      "cell_type": "markdown",
      "metadata": {
        "colab_type": "text",
        "id": "view-in-github"
      },
      "source": [
        "<a href=\"https://colab.research.google.com/github/cccaaannn/deep_learning_colab/blob/master/keras/mlp/binary_addition_mlp.ipynb\" target=\"_parent\"><img src=\"https://colab.research.google.com/assets/colab-badge.svg\" alt=\"Open In Colab\"/></a>"
      ]
    },
    {
      "cell_type": "code",
      "execution_count": null,
      "metadata": {
        "colab": {},
        "colab_type": "code",
        "id": "34UyMKgUUIXf",
        "vscode": {
          "languageId": "python"
        }
      },
      "outputs": [],
      "source": [
        "# keras and tf\n",
        "import tensorflow as tf\n",
        "import keras\n",
        "\n",
        "# models\n",
        "from keras.models import Sequential\n",
        "\n",
        "# layers\n",
        "from keras.layers import Input, add, Conv2D, Flatten, Dense, Dropout, Activation, MaxPooling2D, LSTM\n",
        "\n",
        "# optimizers\n",
        "from keras.optimizers import SGD\n",
        "\n",
        "# numpy\n",
        "import numpy as np"
      ]
    },
    {
      "cell_type": "code",
      "execution_count": 2,
      "metadata": {
        "colab": {},
        "colab_type": "code",
        "id": "SEllsNQ8iO95",
        "vscode": {
          "languageId": "python"
        }
      },
      "outputs": [],
      "source": [
        "def pad_and_seperate_binaries(binaries, pad_number = 8):\n",
        "    for i in range(len(binaries)):\n",
        "        binaries[i] = binaries[i].replace(\"0b\",\"\")\n",
        "\n",
        "    for i in range(len(binaries)):\n",
        "        if(len(binaries[i]) < pad_number):\n",
        "            binaries[i] = \"0\"*(pad_number-len(binaries[i])) + binaries[i]\n",
        "\n",
        "\n",
        "    for i in range(len(binaries)):\n",
        "        binaries[i] = list(map(int,list(binaries[i])))\n",
        "    \n",
        "    return binaries\n"
      ]
    },
    {
      "cell_type": "code",
      "execution_count": 4,
      "metadata": {
        "colab": {},
        "colab_type": "code",
        "id": "sqpjx377WQS8",
        "vscode": {
          "languageId": "python"
        }
      },
      "outputs": [],
      "source": [
        "binaries = []\n",
        "sums = []\n",
        "\n",
        "for b in range(256):\n",
        "    binaries.append(bin(b))\n",
        "\n",
        "for i in binaries:\n",
        "    for j in binaries:\n",
        "        sums.append(bin(int(i, 2) + int(j, 2)))\n",
        "\n",
        "\n",
        "binaries = pad_and_seperate_binaries(binaries)\n",
        "sums = pad_and_seperate_binaries(sums, pad_number=9)\n",
        "\n",
        "x = []\n",
        "for i in binaries:\n",
        "    for j in binaries:\n",
        "        x.append(i+j)  \n",
        "\n",
        "\n",
        "x = np.array(x)\n",
        "y = np.array(sums)\n"
      ]
    },
    {
      "cell_type": "code",
      "execution_count": 5,
      "metadata": {
        "colab": {},
        "colab_type": "code",
        "id": "bWgRzpTokTkS",
        "vscode": {
          "languageId": "python"
        }
      },
      "outputs": [],
      "source": [
        "model = Sequential()\n",
        "model.add(Dense(64, activation='relu', input_dim=16))\n",
        "\n",
        "model.add(Dense(64, activation='relu'))\n",
        "\n",
        "model.add(Dense(32, activation='relu'))\n",
        "\n",
        "model.add(Dense(16, activation='relu'))\n",
        "\n",
        "model.add(Dense(9, activation='softmax'))\n",
        "\n",
        "\n",
        "opt = SGD(lr=0.01, momentum=0.9)\n",
        "model.compile(loss = \"mse\", optimizer = opt, metrics=['accuracy'])"
      ]
    },
    {
      "cell_type": "code",
      "execution_count": null,
      "metadata": {
        "colab": {},
        "colab_type": "code",
        "id": "XCU2pt2zle2W",
        "vscode": {
          "languageId": "python"
        }
      },
      "outputs": [],
      "source": [
        "model.fit(x,y,epochs=50)"
      ]
    }
  ],
  "metadata": {
    "accelerator": "GPU",
    "colab": {
      "authorship_tag": "ABX9TyMdtkR30+/CvzUnCqmDNZt9",
      "collapsed_sections": [],
      "include_colab_link": true,
      "name": "binary_addition_mlp",
      "provenance": []
    },
    "kernelspec": {
      "display_name": "Python 3",
      "name": "python3"
    }
  },
  "nbformat": 4,
  "nbformat_minor": 0
}
