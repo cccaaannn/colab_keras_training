{
  "nbformat": 4,
  "nbformat_minor": 0,
  "metadata": {
    "colab": {
      "name": "simple_network_example",
      "provenance": [],
      "collapsed_sections": [],
      "authorship_tag": "ABX9TyNgmnRKL2I7wBvVba04q5PC",
      "include_colab_link": true
    },
    "kernelspec": {
      "name": "python3",
      "display_name": "Python 3"
    }
  },
  "cells": [
    {
      "cell_type": "markdown",
      "metadata": {
        "id": "view-in-github",
        "colab_type": "text"
      },
      "source": [
        "<a href=\"https://colab.research.google.com/github/cccaaannn/deep_learning_colab/blob/master/simple_network_example.ipynb\" target=\"_parent\"><img src=\"https://colab.research.google.com/assets/colab-badge.svg\" alt=\"Open In Colab\"/></a>"
      ]
    },
    {
      "cell_type": "markdown",
      "metadata": {
        "id": "ELocSGYFWKhy",
        "colab_type": "text"
      },
      "source": [
        "**question**\n",
        "\n",
        "Suppose that your mom prepares today's dinner menu according to today's lunch and yesterday's dinner menu. While the possible menu for lunch are chicken or pizza, the possible menu for dinner are spaghetti or meat.  If there is chicken for lunch today and if there was meat for dinner yesterday, mom prepares spaghetti for dinner today. However, if there is chicken for lunch today and but there was spaghetti for dinner yesterday, mom prepares meat for dinner today. If there is pizza for lunch today and if there was spaghetti for dinner yesterday, mom prepares meat for dinner today. However, if there is pizza for lunch today and but there was meat for dinner yesterday, mom prepares spaghetti for dinner today."
      ]
    },
    {
      "cell_type": "markdown",
      "metadata": {
        "id": "m8pDubDZWQZl",
        "colab_type": "text"
      },
      "source": [
        "**imports**"
      ]
    },
    {
      "cell_type": "code",
      "metadata": {
        "id": "fyYrY8ehq4Zs",
        "colab_type": "code",
        "colab": {}
      },
      "source": [
        "# keras and tf\n",
        "import tensorflow as tf\n",
        "import keras\n",
        "\n",
        "# models\n",
        "from keras.models import Sequential\n",
        "\n",
        "# layers\n",
        "from keras.layers import Input, add, Conv2D, Flatten, Dense, Dropout, Activation, MaxPooling2D\n",
        "\n",
        "# optimizers\n",
        "from keras.optimizers import SGD\n",
        "\n",
        "# numpy\n",
        "import numpy as np"
      ],
      "execution_count": 0,
      "outputs": []
    },
    {
      "cell_type": "markdown",
      "metadata": {
        "id": "S7x-J4fxWS5u",
        "colab_type": "text"
      },
      "source": [
        "**create dataset**"
      ]
    },
    {
      "cell_type": "code",
      "metadata": {
        "id": "XHNBvhRtsGt4",
        "colab_type": "code",
        "colab": {}
      },
      "source": [
        "# meat 1\n",
        "# spaghetti 2\n",
        "# chicken 3\n",
        "# pizza 4\n",
        "\n",
        "x = np.array([[1,3],[2,3],[2,4],[1,4]])\n",
        "y = np.array([[0,1],[1,0],[1,0],[0,1]])"
      ],
      "execution_count": 0,
      "outputs": []
    },
    {
      "cell_type": "markdown",
      "metadata": {
        "id": "C4bnqb_1WVIy",
        "colab_type": "text"
      },
      "source": [
        "**build model**"
      ]
    },
    {
      "cell_type": "code",
      "metadata": {
        "id": "7Mf4jlY8q60v",
        "colab_type": "code",
        "colab": {}
      },
      "source": [
        "model = Sequential()\n",
        "model.add(Dense(2, activation='softmax', input_dim=2))\n",
        "\n",
        "opt = SGD(lr=0.1, momentum=0.9)\n",
        "model.compile(loss = \"categorical_crossentropy\", optimizer = opt, metrics=['accuracy'])"
      ],
      "execution_count": 0,
      "outputs": []
    },
    {
      "cell_type": "markdown",
      "metadata": {
        "id": "IZY2AWobWXO5",
        "colab_type": "text"
      },
      "source": [
        "**train**"
      ]
    },
    {
      "cell_type": "code",
      "metadata": {
        "id": "Dl8fQxtLrzMo",
        "colab_type": "code",
        "colab": {}
      },
      "source": [
        "model.fit(x,y,epochs=300)"
      ],
      "execution_count": 0,
      "outputs": []
    },
    {
      "cell_type": "markdown",
      "metadata": {
        "id": "clV-jMdkWZBf",
        "colab_type": "text"
      },
      "source": [
        "**test**"
      ]
    },
    {
      "cell_type": "code",
      "metadata": {
        "id": "zSGNR8t-um8R",
        "colab_type": "code",
        "colab": {}
      },
      "source": [
        "for test in [x]:\n",
        "    pred = model.predict_classes(test)\n",
        "    print(pred)"
      ],
      "execution_count": 0,
      "outputs": []
    },
    {
      "cell_type": "markdown",
      "metadata": {
        "id": "W6GxGp4YWah2",
        "colab_type": "text"
      },
      "source": [
        "**weights**"
      ]
    },
    {
      "cell_type": "code",
      "metadata": {
        "id": "tHl1ZB6EvVn5",
        "colab_type": "code",
        "colab": {}
      },
      "source": [
        "for layer in model.layers:\n",
        "    print(layer.get_weights())"
      ],
      "execution_count": 0,
      "outputs": []
    }
  ]
}