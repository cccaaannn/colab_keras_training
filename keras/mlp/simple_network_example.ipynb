{
  "cells": [
    {
      "attachments": {},
      "cell_type": "markdown",
      "metadata": {
        "colab_type": "text",
        "id": "view-in-github"
      },
      "source": [
        "<a href=\"https://colab.research.google.com/github/cccaaannn/deep_learning_colab/blob/master/keras/mlp/simple_network_example.ipynb\" target=\"_parent\"><img src=\"https://colab.research.google.com/assets/colab-badge.svg\" alt=\"Open In Colab\"/></a>"
      ]
    },
    {
      "cell_type": "markdown",
      "metadata": {
        "colab_type": "text",
        "id": "ELocSGYFWKhy"
      },
      "source": [
        "**question**\n",
        "\n",
        "Suppose that your mom prepares today's dinner menu according to today's lunch and yesterday's dinner menu. While the possible menu for lunch are chicken or pizza, the possible menu for dinner are spaghetti or meat.  If there is chicken for lunch today and if there was meat for dinner yesterday, mom prepares spaghetti for dinner today. However, if there is chicken for lunch today and but there was spaghetti for dinner yesterday, mom prepares meat for dinner today. If there is pizza for lunch today and if there was spaghetti for dinner yesterday, mom prepares meat for dinner today. However, if there is pizza for lunch today and but there was meat for dinner yesterday, mom prepares spaghetti for dinner today."
      ]
    },
    {
      "cell_type": "markdown",
      "metadata": {
        "colab_type": "text",
        "id": "m8pDubDZWQZl"
      },
      "source": [
        "**imports**"
      ]
    },
    {
      "cell_type": "code",
      "execution_count": null,
      "metadata": {
        "colab": {},
        "colab_type": "code",
        "id": "fyYrY8ehq4Zs",
        "vscode": {
          "languageId": "python"
        }
      },
      "outputs": [],
      "source": [
        "# keras and tf\n",
        "import tensorflow as tf\n",
        "import keras\n",
        "\n",
        "# models\n",
        "from keras.models import Sequential\n",
        "\n",
        "# layers\n",
        "from keras.layers import Input, add, Conv2D, Flatten, Dense, Dropout, Activation, MaxPooling2D\n",
        "\n",
        "# optimizers\n",
        "from keras.optimizers import SGD\n",
        "\n",
        "# numpy\n",
        "import numpy as np"
      ]
    },
    {
      "cell_type": "markdown",
      "metadata": {
        "colab_type": "text",
        "id": "S7x-J4fxWS5u"
      },
      "source": [
        "**create dataset**"
      ]
    },
    {
      "cell_type": "code",
      "execution_count": null,
      "metadata": {
        "colab": {},
        "colab_type": "code",
        "id": "XHNBvhRtsGt4",
        "vscode": {
          "languageId": "python"
        }
      },
      "outputs": [],
      "source": [
        "# meat 1\n",
        "# spaghetti 2\n",
        "# chicken 3\n",
        "# pizza 4\n",
        "\n",
        "x = np.array([[1,3],[2,3],[2,4],[1,4]])\n",
        "y = np.array([[0,1],[1,0],[1,0],[0,1]])"
      ]
    },
    {
      "cell_type": "markdown",
      "metadata": {
        "colab_type": "text",
        "id": "C4bnqb_1WVIy"
      },
      "source": [
        "**build model**"
      ]
    },
    {
      "cell_type": "code",
      "execution_count": null,
      "metadata": {
        "colab": {},
        "colab_type": "code",
        "id": "7Mf4jlY8q60v",
        "vscode": {
          "languageId": "python"
        }
      },
      "outputs": [],
      "source": [
        "model = Sequential()\n",
        "model.add(Dense(2, activation='softmax', input_dim=2))\n",
        "\n",
        "opt = SGD(lr=0.1, momentum=0.9)\n",
        "model.compile(loss = \"categorical_crossentropy\", optimizer = opt, metrics=['accuracy'])"
      ]
    },
    {
      "cell_type": "markdown",
      "metadata": {
        "colab_type": "text",
        "id": "IZY2AWobWXO5"
      },
      "source": [
        "**train**"
      ]
    },
    {
      "cell_type": "code",
      "execution_count": null,
      "metadata": {
        "colab": {},
        "colab_type": "code",
        "id": "Dl8fQxtLrzMo",
        "vscode": {
          "languageId": "python"
        }
      },
      "outputs": [],
      "source": [
        "model.fit(x,y,epochs=300)"
      ]
    },
    {
      "cell_type": "markdown",
      "metadata": {
        "colab_type": "text",
        "id": "clV-jMdkWZBf"
      },
      "source": [
        "**test**"
      ]
    },
    {
      "cell_type": "code",
      "execution_count": null,
      "metadata": {
        "colab": {},
        "colab_type": "code",
        "id": "zSGNR8t-um8R",
        "vscode": {
          "languageId": "python"
        }
      },
      "outputs": [],
      "source": [
        "for test in [x]:\n",
        "    pred = model.predict_classes(test)\n",
        "    print(pred)"
      ]
    },
    {
      "cell_type": "markdown",
      "metadata": {
        "colab_type": "text",
        "id": "W6GxGp4YWah2"
      },
      "source": [
        "**weights**"
      ]
    },
    {
      "cell_type": "code",
      "execution_count": null,
      "metadata": {
        "colab": {},
        "colab_type": "code",
        "id": "tHl1ZB6EvVn5",
        "vscode": {
          "languageId": "python"
        }
      },
      "outputs": [],
      "source": [
        "for layer in model.layers:\n",
        "    print(layer.get_weights())"
      ]
    }
  ],
  "metadata": {
    "colab": {
      "authorship_tag": "ABX9TyNgmnRKL2I7wBvVba04q5PC",
      "collapsed_sections": [],
      "include_colab_link": true,
      "name": "simple_network_example",
      "provenance": []
    },
    "kernelspec": {
      "display_name": "Python 3",
      "name": "python3"
    }
  },
  "nbformat": 4,
  "nbformat_minor": 0
}
