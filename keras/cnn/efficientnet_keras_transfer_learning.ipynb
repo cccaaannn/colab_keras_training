{
  "nbformat": 4,
  "nbformat_minor": 0,
  "metadata": {
    "colab": {
      "name": "efficientnet_keras_transfer_learning",
      "provenance": [],
      "collapsed_sections": [],
      "authorship_tag": "ABX9TyPd+Ab+6elZFvMgwnPB3Ekl",
      "include_colab_link": true
    },
    "kernelspec": {
      "name": "python3",
      "display_name": "Python 3"
    }
  },
  "cells": [
    {
      "cell_type": "markdown",
      "metadata": {
        "id": "view-in-github",
        "colab_type": "text"
      },
      "source": [
        "<a href=\"https://colab.research.google.com/github/cccaaannn/deep_learning_colab/blob/master/keras/cnn/efficientnet_keras_transfer_learning.ipynb\" target=\"_parent\"><img src=\"https://colab.research.google.com/assets/colab-badge.svg\" alt=\"Open In Colab\"/></a>"
      ]
    },
    {
      "cell_type": "markdown",
      "metadata": {
        "id": "goDf6QLWUkeq"
      },
      "source": [
        "**test gpu**"
      ]
    },
    {
      "cell_type": "code",
      "metadata": {
        "id": "2as19GNXTPJZ"
      },
      "source": [
        "!nvidia-smi"
      ],
      "execution_count": null,
      "outputs": []
    },
    {
      "cell_type": "markdown",
      "metadata": {
        "id": "t4XwYOpGUiYo"
      },
      "source": [
        "**imports**"
      ]
    },
    {
      "cell_type": "code",
      "metadata": {
        "id": "hUnJCZEFTSNj"
      },
      "source": [
        "import warnings\n",
        "warnings.filterwarnings(\"ignore\")\n",
        "\n",
        "# keras and tf\n",
        "import tensorflow as tf\n",
        "import keras\n",
        "\n",
        "# models\n",
        "from keras.models import Sequential\n",
        "from keras.models import Model\n",
        "\n",
        "# backend\n",
        "from keras import optimizers, metrics, models\n",
        "import keras.backend as K\n",
        "\n",
        "# layers\n",
        "from keras.layers import Input, add, Conv2D, Flatten, Dense, Dropout, Activation\n",
        "from keras.layers import Convolution2D, MaxPooling2D, ZeroPadding2D, GlobalAveragePooling2D, AveragePooling2D, BatchNormalization\n",
        "from keras.layers.advanced_activations import LeakyReLU\n",
        "\n",
        "# optimizers\n",
        "from keras.optimizers import SGD\n",
        "\n",
        "# regularizers\n",
        "from keras.regularizers import l2\n",
        "\n",
        "# training\n",
        "from keras.preprocessing.image import ImageDataGenerator\n",
        "from keras.callbacks import ModelCheckpoint, CSVLogger, LearningRateScheduler\n",
        "\n",
        "# save\n",
        "import h5py\n",
        "\n",
        "# keras aplications\n",
        "from keras.applications import DenseNet201, DenseNet169, InceptionResNetV2, ResNet152V2, InceptionV3, DenseNet121, Xception, MobileNet, VGG19\n",
        "\n",
        "\n",
        "# other libs\n",
        "import math\n",
        "import pickle\n",
        "import os"
      ],
      "execution_count": null,
      "outputs": []
    },
    {
      "cell_type": "markdown",
      "metadata": {
        "id": "M-XYKtzrUmvg"
      },
      "source": [
        "**install efficieintNet**"
      ]
    },
    {
      "cell_type": "code",
      "metadata": {
        "id": "9I0CY2wxRPS5"
      },
      "source": [
        "pip install -U efficientnet"
      ],
      "execution_count": null,
      "outputs": []
    },
    {
      "cell_type": "markdown",
      "metadata": {
        "id": "h1raXCT0Us0T"
      },
      "source": [
        "**import efficientNet**"
      ]
    },
    {
      "cell_type": "code",
      "metadata": {
        "id": "pW0cQLKYRteq"
      },
      "source": [
        "import efficientnet.keras as efn "
      ],
      "execution_count": null,
      "outputs": []
    },
    {
      "cell_type": "markdown",
      "metadata": {
        "id": "GHNO7AVsUbQZ"
      },
      "source": [
        "**connect to the drive**"
      ]
    },
    {
      "cell_type": "code",
      "metadata": {
        "id": "SmKDbRlESw-L"
      },
      "source": [
        "from google.colab import drive\n",
        "drive.mount('/content/drive')"
      ],
      "execution_count": null,
      "outputs": []
    },
    {
      "cell_type": "markdown",
      "metadata": {
        "id": "hReczusQUX3o"
      },
      "source": [
        "**set options**"
      ]
    },
    {
      "cell_type": "code",
      "metadata": {
        "id": "Z3tRydV-TcB3"
      },
      "source": [
        "image_size = 224 \n",
        "batch_size = 8\n",
        "nr_classes = 50\n",
        "nr_ephocs = 75\n",
        "\n",
        "train_path = \"/content/drive/My Drive/Data/train\"\n",
        "test_path = \"/content/drive/My Drive/Data/test\"\n",
        "\n",
        "# model_path = \"/content/drive/My Drive/models/efficientnet_50_class_model.hdf5\""
      ],
      "execution_count": null,
      "outputs": []
    },
    {
      "cell_type": "markdown",
      "metadata": {
        "id": "ILIAJpKbUUwx"
      },
      "source": [
        "**generate data**"
      ]
    },
    {
      "cell_type": "code",
      "metadata": {
        "id": "q6aQIZ1ATYpL"
      },
      "source": [
        "train_datagen = ImageDataGenerator(\n",
        "        # rotation -40 40\n",
        "        rotation_range=40,\n",
        "\n",
        "        # shift images and fill pixels with nearest\n",
        "        width_shift_range=0.2,\n",
        "        height_shift_range=0.2,\n",
        "        fill_mode='nearest',\n",
        "\n",
        "        horizontal_flip=True,\n",
        "        zoom_range=0.3,\n",
        "\n",
        "        shear_range=0.2,\n",
        "\n",
        "        brightness_range=[0.1, 0.5],\n",
        "        channel_shift_range=0.5,\n",
        "\n",
        "        # normalization \n",
        "        featurewise_center=True,\n",
        "        featurewise_std_normalization=True,\n",
        "        # validation_split=0.2,\n",
        "        )\n",
        "\n",
        "valid_datagen = ImageDataGenerator(featurewise_center=True, featurewise_std_normalization=True)\n",
        "\n",
        "train = train_datagen.flow_from_directory(train_path, shuffle=True, class_mode='categorical', target_size=(image_size,image_size), batch_size=batch_size)\n",
        "valid = valid_datagen.flow_from_directory(test_path , shuffle=True, class_mode='categorical', target_size=(image_size,image_size), batch_size=batch_size)"
      ],
      "execution_count": null,
      "outputs": []
    },
    {
      "cell_type": "markdown",
      "metadata": {
        "id": "CSGSyXplRK5X"
      },
      "source": [
        "**build model**"
      ]
    },
    {
      "cell_type": "code",
      "metadata": {
        "id": "P0aQXSYwVGT8"
      },
      "source": [
        "base_model = efn.EfficientNetB7(include_top=False)\n",
        "\n",
        "x=base_model.output\n",
        "x=GlobalAveragePooling2D()(x)\n",
        "preds=Dense(nr_classes,activation='softmax')(x)\n",
        "model=Model(inputs=base_model.input,outputs=preds)"
      ],
      "execution_count": null,
      "outputs": []
    },
    {
      "cell_type": "code",
      "metadata": {
        "id": "OxbKNtZcDS-A"
      },
      "source": [
        "base_model = efn.EfficientNetB0(include_top=False)\n",
        "\n",
        "x=base_model.output\n",
        "x=GlobalAveragePooling2D()(x)\n",
        "preds=Dense(nr_classes,activation='softmax')(x)\n",
        "model=Model(inputs=base_model.input,outputs=preds)"
      ],
      "execution_count": null,
      "outputs": []
    },
    {
      "cell_type": "markdown",
      "metadata": {
        "id": "gZsd-wlfT8Uh"
      },
      "source": [
        "**set optimizer**"
      ]
    },
    {
      "cell_type": "code",
      "metadata": {
        "id": "-5SlvlndSxMX"
      },
      "source": [
        "opt = SGD(lr=0.0001, momentum=0.9)"
      ],
      "execution_count": null,
      "outputs": []
    },
    {
      "cell_type": "markdown",
      "metadata": {
        "id": "Ee8Ox38rUDQJ"
      },
      "source": [
        "**compile model**"
      ]
    },
    {
      "cell_type": "code",
      "metadata": {
        "id": "PS6nKrTDDl8F"
      },
      "source": [
        "import functools\n",
        "top3_acc = functools.partial(keras.metrics.top_k_categorical_accuracy, k=3)\n",
        "top3_acc.__name__ = 'top3_acc'\n",
        "\n",
        "top5_acc = functools.partial(keras.metrics.top_k_categorical_accuracy, k=5)\n",
        "top5_acc.__name__ = 'top5_acc'\n",
        "\n",
        "top10_acc = functools.partial(keras.metrics.top_k_categorical_accuracy, k=10)\n",
        "top10_acc.__name__ = 'top10_acc'\n",
        "\n",
        "model.compile(loss = \"categorical_crossentropy\", optimizer = opt, metrics=['accuracy', top3_acc, top5_acc, top10_acc])"
      ],
      "execution_count": null,
      "outputs": []
    },
    {
      "cell_type": "code",
      "metadata": {
        "id": "cBfbkE8JTA1i"
      },
      "source": [
        "model.compile(loss = \"categorical_crossentropy\", optimizer = opt, metrics=['accuracy'])"
      ],
      "execution_count": null,
      "outputs": []
    },
    {
      "cell_type": "markdown",
      "metadata": {
        "id": "apkhd-eFLzni"
      },
      "source": [
        "**set checkpointer**"
      ]
    },
    {
      "cell_type": "code",
      "metadata": {
        "id": "zrW4bOE1LD-C"
      },
      "source": [
        "checkpointer = ModelCheckpoint(filepath= model_path, monitor='val_loss', save_best_only=True)"
      ],
      "execution_count": null,
      "outputs": []
    },
    {
      "cell_type": "markdown",
      "metadata": {
        "id": "addQGyq0H6px"
      },
      "source": [
        "**train**"
      ]
    },
    {
      "cell_type": "code",
      "metadata": {
        "id": "GAFM1g1vb77q"
      },
      "source": [
        "history = model.fit_generator(train, epochs=nr_ephocs, validation_data=valid, callbacks=[checkpointer])"
      ],
      "execution_count": null,
      "outputs": []
    },
    {
      "cell_type": "markdown",
      "metadata": {
        "id": "ha8LIco-EQGO"
      },
      "source": [
        "**transfer learning**"
      ]
    },
    {
      "cell_type": "markdown",
      "metadata": {
        "id": "Huoiay9xSF0d"
      },
      "source": [
        "**build model for transfer learning**"
      ]
    },
    {
      "cell_type": "code",
      "metadata": {
        "id": "pQOeTeiOR6d-"
      },
      "source": [
        "# create base model\n",
        "# base_model = efn.EfficientNetB7(include_top=False, weights='imagenet')\n",
        "base_model = efn.EfficientNetB7(include_top=False, weights='noisy-student')\n",
        "\n",
        "# add the top\n",
        "x = base_model.output\n",
        "x = GlobalAveragePooling2D()(x)\n",
        "predictions = Dense(nr_classes, activation='softmax')(x)\n",
        "model = Model(inputs=base_model.input, outputs=predictions)\n",
        "\n",
        "# freeze layers\n",
        "for layer in base_model.layers:\n",
        "    layer.trainable = False\n",
        "\n",
        "# fix batchnormalization bug\n",
        "for layer in base_model.layers:\n",
        "    if isinstance(layer, BatchNormalization):\n",
        "        layer.trainable = True\n",
        "    else:\n",
        "        layer.trainable = False\n",
        "\n",
        "model.summary()"
      ],
      "execution_count": null,
      "outputs": []
    },
    {
      "cell_type": "markdown",
      "metadata": {
        "id": "6E6eOTx1El2t"
      },
      "source": [
        "**set optimizer**"
      ]
    },
    {
      "cell_type": "code",
      "metadata": {
        "id": "oAr-REyUEl2z"
      },
      "source": [
        "opt = SGD(lr=0.0001, momentum=0.9)"
      ],
      "execution_count": null,
      "outputs": []
    },
    {
      "cell_type": "markdown",
      "metadata": {
        "id": "ZEtaH8M9El23"
      },
      "source": [
        "**compile model**"
      ]
    },
    {
      "cell_type": "code",
      "metadata": {
        "id": "qibkudQdEl24"
      },
      "source": [
        "import functools\n",
        "top3_acc = functools.partial(keras.metrics.top_k_categorical_accuracy, k=3)\n",
        "top3_acc.__name__ = 'top3_acc'\n",
        "\n",
        "top5_acc = functools.partial(keras.metrics.top_k_categorical_accuracy, k=5)\n",
        "top5_acc.__name__ = 'top5_acc'\n",
        "\n",
        "top10_acc = functools.partial(keras.metrics.top_k_categorical_accuracy, k=10)\n",
        "top10_acc.__name__ = 'top10_acc'\n",
        "\n",
        "model.compile(loss = \"categorical_crossentropy\", optimizer = opt, metrics=['accuracy', top3_acc, top5_acc, top10_acc])"
      ],
      "execution_count": null,
      "outputs": []
    },
    {
      "cell_type": "code",
      "metadata": {
        "id": "MO9OpmKEEl26"
      },
      "source": [
        "model.compile(loss = \"categorical_crossentropy\", optimizer = opt, metrics=['accuracy'])"
      ],
      "execution_count": null,
      "outputs": []
    },
    {
      "cell_type": "markdown",
      "metadata": {
        "id": "FRuMI6c5El28"
      },
      "source": [
        "**set checkpointer**"
      ]
    },
    {
      "cell_type": "code",
      "metadata": {
        "id": "9CXt17RvEl28"
      },
      "source": [
        "checkpointer = ModelCheckpoint(filepath= model_path, monitor='val_loss', save_best_only=True)"
      ],
      "execution_count": null,
      "outputs": []
    },
    {
      "cell_type": "markdown",
      "metadata": {
        "id": "Tuw5UBHKEvHx"
      },
      "source": [
        "**training**"
      ]
    },
    {
      "cell_type": "code",
      "metadata": {
        "id": "x1nq2IshEvHz"
      },
      "source": [
        "history = model.fit_generator(train, epochs=nr_ephocs, validation_data=valid, callbacks=[checkpointer])"
      ],
      "execution_count": null,
      "outputs": []
    },
    {
      "cell_type": "markdown",
      "metadata": {
        "id": "NSI0uLcbT0i1"
      },
      "source": [
        "**unfreeze model for full training**"
      ]
    },
    {
      "cell_type": "code",
      "metadata": {
        "id": "1TDZ-gvP96eu"
      },
      "source": [
        "nr_ephocs = 50\n",
        "model_path = \"/content/drive/My Drive/efficientnet_finetuned_106_class_model.hdf5\"\n",
        "for layer in model.layers:\n",
        "    layer.trainable = True"
      ],
      "execution_count": null,
      "outputs": []
    },
    {
      "cell_type": "markdown",
      "metadata": {
        "id": "_hNj6B_sUHlB"
      },
      "source": [
        "**continue training**"
      ]
    },
    {
      "cell_type": "code",
      "metadata": {
        "id": "nX4dki_cTrgX"
      },
      "source": [
        "history = model.fit_generator(train, epochs=nr_ephocs, validation_data=valid, callbacks=[checkpointer])"
      ],
      "execution_count": null,
      "outputs": []
    }
  ]
}