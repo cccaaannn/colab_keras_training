{
  "cells": [
    {
      "attachments": {},
      "cell_type": "markdown",
      "metadata": {
        "colab_type": "text",
        "id": "view-in-github"
      },
      "source": [
        "<a href=\"https://colab.research.google.com/github/cccaaannn/deep_learning_colab/blob/master/keras/cnn/darknet53_on_keras.ipynb\" target=\"_parent\"><img src=\"https://colab.research.google.com/assets/colab-badge.svg\" alt=\"Open In Colab\"/></a>"
      ]
    },
    {
      "cell_type": "markdown",
      "metadata": {
        "colab_type": "text",
        "id": "i5RTEH2cFFut"
      },
      "source": [
        "**test gpu**"
      ]
    },
    {
      "cell_type": "code",
      "execution_count": null,
      "metadata": {
        "colab": {},
        "colab_type": "code",
        "id": "3VYPLQnNFMGY"
      },
      "outputs": [],
      "source": [
        "!nvidia-smi"
      ]
    },
    {
      "cell_type": "markdown",
      "metadata": {
        "colab_type": "text",
        "id": "dEQH-1OEHGi1"
      },
      "source": [
        "**imports**"
      ]
    },
    {
      "cell_type": "code",
      "execution_count": null,
      "metadata": {
        "colab": {},
        "colab_type": "code",
        "id": "_AOLIH6gbzDx"
      },
      "outputs": [],
      "source": [
        "import warnings\n",
        "warnings.filterwarnings(\"ignore\")\n",
        "\n",
        "# keras and tf\n",
        "import tensorflow as tf\n",
        "import keras\n",
        "\n",
        "# models\n",
        "from keras.models import Sequential\n",
        "from keras.models import Model\n",
        "\n",
        "# backend\n",
        "from keras import optimizers, metrics, models\n",
        "import keras.backend as K\n",
        "\n",
        "# layers\n",
        "from keras.layers import Input, add, Conv2D, Flatten, Dense, Dropout, Activation\n",
        "from keras.layers import Convolution2D, MaxPooling2D, ZeroPadding2D, GlobalAveragePooling2D, AveragePooling2D, BatchNormalization\n",
        "from keras.layers.advanced_activations import LeakyReLU\n",
        "\n",
        "# optimizers\n",
        "from keras.optimizers import SGD\n",
        "\n",
        "# regularizers\n",
        "from keras.regularizers import l2\n",
        "\n",
        "# training\n",
        "from keras.preprocessing.image import ImageDataGenerator\n",
        "from keras.callbacks import ModelCheckpoint, CSVLogger, LearningRateScheduler\n",
        "\n",
        "# save\n",
        "import h5py\n",
        "\n",
        "# keras aplications\n",
        "from keras.applications import DenseNet201, DenseNet169, InceptionResNetV2, ResNet152V2, InceptionV3, DenseNet121, Xception, MobileNet, VGG19\n",
        "\n",
        "\n",
        "# other libs\n",
        "import math\n",
        "import pickle\n",
        "import os"
      ]
    },
    {
      "cell_type": "markdown",
      "metadata": {
        "colab_type": "text",
        "id": "s2XPkFZbHM_-"
      },
      "source": [
        "**connect to the drive**"
      ]
    },
    {
      "cell_type": "code",
      "execution_count": null,
      "metadata": {
        "colab": {},
        "colab_type": "code",
        "id": "UdQFOL-RbiLH"
      },
      "outputs": [],
      "source": [
        "from google.colab import drive\n",
        "drive.mount('/content/drive')"
      ]
    },
    {
      "cell_type": "markdown",
      "metadata": {
        "colab_type": "text",
        "id": "s5QHGHRhHTQ2"
      },
      "source": [
        "**set options**"
      ]
    },
    {
      "cell_type": "code",
      "execution_count": null,
      "metadata": {
        "colab": {},
        "colab_type": "code",
        "id": "is0UfDtUcMNh"
      },
      "outputs": [],
      "source": [
        "# colab cant handle image size of 516\n",
        "image_size = 224 \n",
        "batch_size = 32\n",
        "nr_classes = 106\n",
        "nr_ephocs = 50\n",
        "model_path = \"/content/drive/My Drive/darknet53_106_class_model.hdf5\""
      ]
    },
    {
      "cell_type": "markdown",
      "metadata": {
        "colab_type": "text",
        "id": "bsjG4cPIHXhI"
      },
      "source": [
        "**generate data**"
      ]
    },
    {
      "cell_type": "code",
      "execution_count": null,
      "metadata": {
        "colab": {},
        "colab_type": "code",
        "id": "JwCudKqrbwQw"
      },
      "outputs": [],
      "source": [
        "train_datagen = ImageDataGenerator(\n",
        "        # rotation -40 40\n",
        "        rotation_range=40,\n",
        "\n",
        "        # shift images and fill pixels with nearest\n",
        "        width_shift_range=0.2,\n",
        "        height_shift_range=0.2,\n",
        "        fill_mode='nearest',\n",
        "\n",
        "        horizontal_flip=True,\n",
        "        zoom_range=0.3,\n",
        "\n",
        "        shear_range=0.2,\n",
        "\n",
        "        brightness_range=[0.1, 0.5],\n",
        "        channel_shift_range=0.5,\n",
        "\n",
        "        # normalization \n",
        "        featurewise_center=True,\n",
        "        featurewise_std_normalization=True,\n",
        "        # validation_split=0.2,\n",
        "        )\n",
        "\n",
        "valid_datagen = ImageDataGenerator(featurewise_center=True, featurewise_std_normalization=True)\n",
        "\n",
        "train = train_datagen.flow_from_directory(\"/content/drive/My Drive/clean_data/train\", target_size=(image_size,image_size), batch_size=batch_size)\n",
        "valid = valid_datagen.flow_from_directory(\"/content/drive/My Drive/clean_data/test\", target_size=(image_size,image_size), batch_size=batch_size)"
      ]
    },
    {
      "cell_type": "markdown",
      "metadata": {
        "colab_type": "text",
        "id": "Udo_pLh0IW2t"
      },
      "source": [
        "**build model**     [github link of author](https://github.com/xiaochus/YOLOv3/blob/master/model/darknet53.py)"
      ]
    },
    {
      "cell_type": "code",
      "execution_count": null,
      "metadata": {
        "colab": {},
        "colab_type": "code",
        "id": "sp5LRP1GERZh"
      },
      "outputs": [],
      "source": [
        "\"\"\"Darknet-53 for yolo v3.\n",
        "\"\"\"\n",
        "def conv2d_unit(x, filters, kernels, strides=1):\n",
        "    \"\"\"Convolution Unit\n",
        "    This function defines a 2D convolution operation with BN and LeakyReLU.\n",
        "    # Arguments\n",
        "        x: Tensor, input tensor of conv layer.\n",
        "        filters: Integer, the dimensionality of the output space.\n",
        "        kernels: An integer or tuple/list of 2 integers, specifying the\n",
        "            width and height of the 2D convolution window.\n",
        "        strides: An integer or tuple/list of 2 integers,\n",
        "            specifying the strides of the convolution along the width and\n",
        "            height. Can be a single integer to specify the same value for\n",
        "            all spatial dimensions.\n",
        "    # Returns\n",
        "            Output tensor.\n",
        "    \"\"\"\n",
        "    x = Conv2D(filters, kernels,\n",
        "               padding='same',\n",
        "               strides=strides,\n",
        "               activation='linear',\n",
        "               kernel_regularizer=l2(5e-4))(x)\n",
        "    x = BatchNormalization()(x)\n",
        "    x = LeakyReLU(alpha=0.1)(x)\n",
        "\n",
        "    return x\n",
        "\n",
        "\n",
        "def residual_block(inputs, filters):\n",
        "    \"\"\"Residual Block\n",
        "    This function defines a 2D convolution operation with BN and LeakyReLU.\n",
        "    # Arguments\n",
        "        x: Tensor, input tensor of residual block.\n",
        "        kernels: An integer or tuple/list of 2 integers, specifying the\n",
        "            width and height of the 2D convolution window.\n",
        "    # Returns\n",
        "        Output tensor.\n",
        "    \"\"\"\n",
        "    x = conv2d_unit(inputs, filters, (1, 1))\n",
        "    x = conv2d_unit(x, 2 * filters, (3, 3))\n",
        "    x = add([inputs, x])\n",
        "    x = Activation('linear')(x)\n",
        "\n",
        "    return x\n",
        "\n",
        "\n",
        "def stack_residual_block(inputs, filters, n):\n",
        "    \"\"\"Stacked residual Block\n",
        "    \"\"\"\n",
        "    x = residual_block(inputs, filters)\n",
        "\n",
        "    for i in range(n - 1):\n",
        "        x = residual_block(x, filters)\n",
        "\n",
        "    return x\n",
        "\n",
        "\n",
        "def darknet_base(inputs):\n",
        "    \"\"\"Darknet-53 base model.\n",
        "    \"\"\"\n",
        "\n",
        "    x = conv2d_unit(inputs, 32, (3, 3))\n",
        "\n",
        "    x = conv2d_unit(x, 64, (3, 3), strides=2)\n",
        "    x = stack_residual_block(x, 32, n=1)\n",
        "\n",
        "    x = conv2d_unit(x, 128, (3, 3), strides=2)\n",
        "    x = stack_residual_block(x, 64, n=2)\n",
        "\n",
        "    x = conv2d_unit(x, 256, (3, 3), strides=2)\n",
        "    x = stack_residual_block(x, 128, n=8)\n",
        "\n",
        "    x = conv2d_unit(x, 512, (3, 3), strides=2)\n",
        "    x = stack_residual_block(x, 256, n=8)\n",
        "\n",
        "    x = conv2d_unit(x, 1024, (3, 3), strides=2)\n",
        "    x = stack_residual_block(x, 512, n=4)\n",
        "\n",
        "    return x\n",
        "\n",
        "\n",
        "def darknet():\n",
        "    \"\"\"Darknet-53 classifier.\n",
        "    \"\"\"\n",
        "    inputs = Input(shape=(image_size, image_size, 3))\n",
        "    x = darknet_base(inputs)\n",
        "\n",
        "    x = GlobalAveragePooling2D()(x)\n",
        "    x = Dense(nr_classes, activation='softmax')(x)\n",
        "\n",
        "    model = Model(inputs, x)\n",
        "\n",
        "    return model"
      ]
    },
    {
      "cell_type": "markdown",
      "metadata": {
        "colab_type": "text",
        "id": "kA_FiVlHILz-"
      },
      "source": [
        "**instantiate model**"
      ]
    },
    {
      "cell_type": "code",
      "execution_count": null,
      "metadata": {
        "colab": {},
        "colab_type": "code",
        "id": "R9n9v4m_ETJZ"
      },
      "outputs": [],
      "source": [
        "model = darknet()\n",
        "model.summary()"
      ]
    },
    {
      "cell_type": "markdown",
      "metadata": {
        "colab_type": "text",
        "id": "-4LEgkEbMzp1"
      },
      "source": [
        "**or load model**"
      ]
    },
    {
      "cell_type": "code",
      "execution_count": null,
      "metadata": {
        "colab": {},
        "colab_type": "code",
        "id": "TF1vKf5mMvKW"
      },
      "outputs": [],
      "source": [
        "model = keras.models.load_model(model_path)"
      ]
    },
    {
      "cell_type": "markdown",
      "metadata": {
        "colab_type": "text",
        "id": "CCYwPVodIAeU"
      },
      "source": [
        "**set optimizer**"
      ]
    },
    {
      "cell_type": "code",
      "execution_count": null,
      "metadata": {
        "colab": {},
        "colab_type": "code",
        "id": "5F2vTvf4IDxn"
      },
      "outputs": [],
      "source": [
        "opt = SGD(lr=0.001, momentum=0.9)"
      ]
    },
    {
      "cell_type": "markdown",
      "metadata": {
        "colab_type": "text",
        "id": "eWHhV8X3H9b9"
      },
      "source": [
        "**compile model**"
      ]
    },
    {
      "cell_type": "code",
      "execution_count": null,
      "metadata": {
        "colab": {},
        "colab_type": "code",
        "id": "Rrr6uSlOFYt6"
      },
      "outputs": [],
      "source": [
        "model.compile(loss = \"categorical_crossentropy\", optimizer = opt, metrics=['accuracy'])"
      ]
    },
    {
      "cell_type": "markdown",
      "metadata": {
        "colab_type": "text",
        "id": "apkhd-eFLzni"
      },
      "source": [
        "**set checkpointer**"
      ]
    },
    {
      "cell_type": "code",
      "execution_count": null,
      "metadata": {
        "colab": {},
        "colab_type": "code",
        "id": "zrW4bOE1LD-C"
      },
      "outputs": [],
      "source": [
        "checkpointer = ModelCheckpoint(filepath= model_path, monitor='val_loss', save_best_only=True)"
      ]
    },
    {
      "cell_type": "markdown",
      "metadata": {
        "colab_type": "text",
        "id": "addQGyq0H6px"
      },
      "source": [
        "**train**"
      ]
    },
    {
      "cell_type": "code",
      "execution_count": null,
      "metadata": {
        "colab": {},
        "colab_type": "code",
        "id": "GAFM1g1vb77q"
      },
      "outputs": [],
      "source": [
        "history = model.fit_generator(train, epochs=nr_ephocs, validation_data=valid, callbacks=[checkpointer])"
      ]
    }
  ],
  "metadata": {
    "accelerator": "GPU",
    "colab": {
      "collapsed_sections": [],
      "include_colab_link": true,
      "name": "testing_darknet53_on_keras",
      "provenance": []
    },
    "kernelspec": {
      "display_name": "Python 3",
      "language": "python",
      "name": "python3"
    },
    "language_info": {
      "name": "python",
      "version": "3.10.1"
    },
    "vscode": {
      "interpreter": {
        "hash": "311ad0edd6acdcb371f729590e8578d03d41f9cad157261ca127aabce1718292"
      }
    }
  },
  "nbformat": 4,
  "nbformat_minor": 0
}
