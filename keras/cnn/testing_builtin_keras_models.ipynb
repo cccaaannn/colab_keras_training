{
  "nbformat": 4,
  "nbformat_minor": 0,
  "metadata": {
    "accelerator": "GPU",
    "colab": {
      "name": "testing_builtin_keras_models",
      "provenance": [],
      "collapsed_sections": [],
      "authorship_tag": "ABX9TyNlTGNEWqATuYarxdj/KK4H",
      "include_colab_link": true
    },
    "kernelspec": {
      "display_name": "Python 3",
      "name": "python3"
    }
  },
  "cells": [
    {
      "cell_type": "markdown",
      "metadata": {
        "id": "view-in-github",
        "colab_type": "text"
      },
      "source": [
        "<a href=\"https://colab.research.google.com/github/cccaaannn/deep_learning_colab/blob/master/keras/cnn/testing_builtin_keras_models.ipynb\" target=\"_parent\"><img src=\"https://colab.research.google.com/assets/colab-badge.svg\" alt=\"Open In Colab\"/></a>"
      ]
    },
    {
      "cell_type": "markdown",
      "metadata": {
        "id": "hFWXcDlUWfAF"
      },
      "source": [
        "**check the gpu**"
      ]
    },
    {
      "cell_type": "code",
      "metadata": {
        "id": "HoeiVuu3XY5K"
      },
      "source": [
        "!nvidia-smi"
      ],
      "execution_count": null,
      "outputs": []
    },
    {
      "cell_type": "markdown",
      "metadata": {
        "id": "8qNkpCdd5cw0"
      },
      "source": [
        "**install additional libs**"
      ]
    },
    {
      "cell_type": "code",
      "metadata": {
        "id": "iNLxw8QB5ccq"
      },
      "source": [
        "!pip install imagepreprocessing"
      ],
      "execution_count": null,
      "outputs": []
    },
    {
      "cell_type": "markdown",
      "metadata": {
        "id": "b2bmk3-uUuzs"
      },
      "source": [
        "**imports**"
      ]
    },
    {
      "cell_type": "code",
      "metadata": {
        "id": "WerImThL0kOo"
      },
      "source": [
        "# keras and tf\n",
        "import tensorflow as tf\n",
        "import keras\n",
        "\n",
        "# models\n",
        "from keras.models import Sequential\n",
        "from keras.models import Model\n",
        "\n",
        "# backend\n",
        "from keras import optimizers, metrics, models\n",
        "import keras.backend as K\n",
        "\n",
        "# layers\n",
        "from keras.layers import Input, Flatten, Dense, Dropout, Activation\n",
        "from keras.layers import Conv2D, Convolution2D, MaxPooling2D, ZeroPadding2D, GlobalAveragePooling2D, AveragePooling2D, BatchNormalization\n",
        "\n",
        "# optimizers\n",
        "from keras.optimizers import SGD\n",
        "\n",
        "# training\n",
        "from keras.preprocessing.image import ImageDataGenerator\n",
        "from keras.callbacks import ModelCheckpoint, CSVLogger, LearningRateScheduler\n",
        "\n",
        "# save\n",
        "import h5py\n",
        "\n",
        "# keras aplications\n",
        "from keras.applications import DenseNet201, DenseNet169, InceptionResNetV2, ResNet152V2, InceptionV3, DenseNet121, Xception, MobileNet, VGG19\n",
        "\n",
        "\n",
        "# other libs\n",
        "import math\n",
        "import pickle\n",
        "import os\n",
        "\n",
        "# imagepreprocessing\n",
        "from  imagepreprocessing.keras_functions import create_history_graph_keras"
      ],
      "execution_count": null,
      "outputs": []
    },
    {
      "cell_type": "markdown",
      "metadata": {
        "id": "ummRC1sVPbMQ"
      },
      "source": [
        "**import keras aplications**"
      ]
    },
    {
      "cell_type": "code",
      "metadata": {
        "id": "el5IE7ZsOFyI"
      },
      "source": [
        "# keras aplications\n",
        "from tensorflow.keras.applications import (DenseNet121,\n",
        " DenseNet169,\n",
        " DenseNet201,\n",
        " EfficientNetB0,\n",
        " EfficientNetB1,\n",
        " EfficientNetB2,\n",
        " EfficientNetB3,\n",
        " EfficientNetB4,\n",
        " EfficientNetB5,\n",
        " EfficientNetB6,\n",
        " EfficientNetB7,\n",
        " InceptionResNetV2,\n",
        " InceptionV3,\n",
        " MobileNet,\n",
        " MobileNetV2,\n",
        " NASNetLarge,\n",
        " NASNetMobile,\n",
        " ResNet101,\n",
        " ResNet101V2,\n",
        " ResNet152,\n",
        " ResNet152V2,\n",
        " ResNet50,\n",
        " ResNet50V2,\n",
        " VGG16,\n",
        " VGG19)"
      ],
      "execution_count": null,
      "outputs": []
    },
    {
      "cell_type": "markdown",
      "metadata": {
        "id": "jGwXX10YWiaY"
      },
      "source": [
        "**connect to the drive**"
      ]
    },
    {
      "cell_type": "code",
      "metadata": {
        "id": "zErMUWxW0kJM"
      },
      "source": [
        "from google.colab import drive\n",
        "drive.mount('/content/drive')"
      ],
      "execution_count": null,
      "outputs": []
    },
    {
      "cell_type": "markdown",
      "metadata": {
        "id": "fjzprYc4drfS"
      },
      "source": [
        "**set options**"
      ]
    },
    {
      "cell_type": "code",
      "metadata": {
        "id": "0Rp0m5QRZReS"
      },
      "source": [
        "image_size = 224\n",
        "batch_size = 32\n",
        "nr_classes = 100\n",
        "nr_ephocs = 30\n",
        "train_path = \"/content/drive/My Drive/Data/train\"\n",
        "test_path = \"/content/drive/My Drive/Data/test\"\n",
        "\n",
        "# model_path = \"/content/drive/My Drive/densenet201_100_class.h5\""
      ],
      "execution_count": null,
      "outputs": []
    },
    {
      "cell_type": "markdown",
      "metadata": {
        "id": "RAWIyBMzZY3j"
      },
      "source": [
        "**generate data**"
      ]
    },
    {
      "cell_type": "code",
      "metadata": {
        "id": "MLSN1txQ0kCT"
      },
      "source": [
        "train_datagen = ImageDataGenerator(\n",
        "        # rotation -40 40\n",
        "        rotation_range=40,\n",
        "\n",
        "        # shift images and fill pixels with nearest\n",
        "        width_shift_range=0.2,\n",
        "        height_shift_range=0.2,\n",
        "        fill_mode='nearest',\n",
        "\n",
        "        horizontal_flip=True,\n",
        "        zoom_range=0.3,\n",
        "\n",
        "        shear_range=0.2,\n",
        "\n",
        "        brightness_range=[0.1, 0.5],\n",
        "        channel_shift_range=0.5,\n",
        "\n",
        "        # normalization \n",
        "        featurewise_center=True,\n",
        "        featurewise_std_normalization=True,\n",
        "        # validation_split=0.2,\n",
        "        )\n",
        "valid_datagen = ImageDataGenerator(featurewise_center=True, featurewise_std_normalization=True)\n",
        "\n",
        "\n",
        "train = train_datagen.flow_from_directory(train_path, shuffle=True, class_mode='categorical', target_size=(image_size,image_size), batch_size=batch_size)\n",
        "valid = valid_datagen.flow_from_directory(test_path , shuffle=True, class_mode='categorical', target_size=(image_size,image_size), batch_size=batch_size)"
      ],
      "execution_count": null,
      "outputs": []
    },
    {
      "cell_type": "markdown",
      "metadata": {
        "id": "ay7vUwnCzKTS"
      },
      "source": [
        "**top k accuracy**"
      ]
    },
    {
      "cell_type": "code",
      "metadata": {
        "id": "7otboCz1zKTT"
      },
      "source": [
        "import functools\n",
        "top3_acc = functools.partial(keras.metrics.top_k_categorical_accuracy, k=3)\n",
        "top3_acc.__name__ = 'top3_acc'\n",
        "\n",
        "top5_acc = functools.partial(keras.metrics.top_k_categorical_accuracy, k=5)\n",
        "top5_acc.__name__ = 'top5_acc'\n",
        "\n",
        "top10_acc = functools.partial(keras.metrics.top_k_categorical_accuracy, k=10)\n",
        "top10_acc.__name__ = 'top10_acc'\n"
      ],
      "execution_count": null,
      "outputs": []
    },
    {
      "cell_type": "markdown",
      "metadata": {
        "id": "_-kC328sdymQ"
      },
      "source": [
        "**select model**"
      ]
    },
    {
      "cell_type": "code",
      "metadata": {
        "id": "n_sDvEgEzagQ"
      },
      "source": [
        "base_model=DenseNet201(include_top=False)"
      ],
      "execution_count": null,
      "outputs": []
    },
    {
      "cell_type": "code",
      "metadata": {
        "id": "EFlrnDUZXjNy"
      },
      "source": [
        "base_model=DenseNet169(include_top=False)"
      ],
      "execution_count": null,
      "outputs": []
    },
    {
      "cell_type": "code",
      "metadata": {
        "id": "UEtG_iy-XjcD"
      },
      "source": [
        "base_model=DenseNet121(include_top=False)"
      ],
      "execution_count": null,
      "outputs": []
    },
    {
      "cell_type": "code",
      "metadata": {
        "id": "ejB0xc6QX1u5"
      },
      "source": [
        "base_model=ResNet152V2(include_top=False)"
      ],
      "execution_count": null,
      "outputs": []
    },
    {
      "cell_type": "code",
      "metadata": {
        "id": "XsjaRr9-X1bN"
      },
      "source": [
        "base_model=ResNet101V2(include_top=False)"
      ],
      "execution_count": null,
      "outputs": []
    },
    {
      "cell_type": "code",
      "metadata": {
        "id": "3XaN-EUmX1Pc"
      },
      "source": [
        "base_model=Xception(include_top=False)"
      ],
      "execution_count": null,
      "outputs": []
    },
    {
      "cell_type": "code",
      "metadata": {
        "id": "fPX94iilXjGY"
      },
      "source": [
        "base_model=MobileNetV2(include_top=False)"
      ],
      "execution_count": null,
      "outputs": []
    },
    {
      "cell_type": "code",
      "metadata": {
        "id": "d6qN8O7sXsLv"
      },
      "source": [
        "base_model=VGG19(include_top=False)"
      ],
      "execution_count": null,
      "outputs": []
    },
    {
      "cell_type": "code",
      "metadata": {
        "id": "ki_filWMXsON"
      },
      "source": [
        "base_model=VGG16(include_top=False)"
      ],
      "execution_count": null,
      "outputs": []
    },
    {
      "cell_type": "code",
      "metadata": {
        "id": "oznTbNuoXsFI"
      },
      "source": [
        "base_model=NASNetLarge(include_top=False)"
      ],
      "execution_count": null,
      "outputs": []
    },
    {
      "cell_type": "code",
      "metadata": {
        "id": "Pya8jL7xXjQz"
      },
      "source": [
        "base_model=InceptionV3(include_top=False)"
      ],
      "execution_count": null,
      "outputs": []
    },
    {
      "cell_type": "code",
      "metadata": {
        "id": "a9urZN40XjS3"
      },
      "source": [
        "base_model=InceptionResNetV2(include_top=False)"
      ],
      "execution_count": null,
      "outputs": []
    },
    {
      "cell_type": "markdown",
      "metadata": {
        "id": "h2aZyLEPd20M"
      },
      "source": [
        "**add last layer**"
      ]
    },
    {
      "cell_type": "code",
      "metadata": {
        "id": "NZkYZWetcUxF"
      },
      "source": [
        "x=base_model.output\n",
        "x=GlobalAveragePooling2D()(x)\n",
        "preds=Dense(nr_classes,activation='softmax')(x)\n",
        "model=Model(inputs=base_model.input,outputs=preds)"
      ],
      "execution_count": null,
      "outputs": []
    },
    {
      "cell_type": "markdown",
      "metadata": {
        "id": "Mb6Lf5Ure3ay"
      },
      "source": [
        "**compile model**"
      ]
    },
    {
      "cell_type": "code",
      "metadata": {
        "id": "-T1p3yyf9FCZ"
      },
      "source": [
        "opt = SGD(lr=0.001, momentum=0.9)\n",
        "model.compile(loss = \"categorical_crossentropy\", optimizer = opt, metrics=['accuracy'])"
      ],
      "execution_count": null,
      "outputs": []
    },
    {
      "cell_type": "code",
      "metadata": {
        "id": "h96MKsDrziKF"
      },
      "source": [
        "opt = SGD(lr=0.001, momentum=0.9)\n",
        "model.compile(loss = \"categorical_crossentropy\", optimizer = opt, metrics=['accuracy', top3_acc, top5_acc, top10_acc])"
      ],
      "execution_count": null,
      "outputs": []
    },
    {
      "cell_type": "code",
      "metadata": {
        "id": "21xvvSiQY20f"
      },
      "source": [
        "opt = SGD(lr=0.001, nesterov=True)\n",
        "model.compile(loss = \"categorical_crossentropy\", optimizer = opt, metrics=['accuracy', top3_acc, top5_acc, top10_acc])"
      ],
      "execution_count": null,
      "outputs": []
    },
    {
      "cell_type": "code",
      "metadata": {
        "id": "pBb3v_7sY2tI"
      },
      "source": [
        "opt = Adam(lr=0.001)\n",
        "model.compile(loss = \"categorical_crossentropy\", optimizer = opt, metrics=['accuracy', top3_acc, top5_acc, top10_acc])"
      ],
      "execution_count": null,
      "outputs": []
    },
    {
      "cell_type": "code",
      "metadata": {
        "id": "ujb9q39pdp3E"
      },
      "source": [
        "opt = RMSprop()\n",
        "model.compile(loss = \"categorical_crossentropy\", optimizer = opt, metrics=['accuracy', top3_acc, top5_acc, top10_acc])"
      ],
      "execution_count": null,
      "outputs": []
    },
    {
      "cell_type": "code",
      "metadata": {
        "id": "RCEmfM7RdvUa"
      },
      "source": [
        "opt = Adagrad()\n",
        "model.compile(loss = \"categorical_crossentropy\", optimizer = opt, metrics=['accuracy', top3_acc, top5_acc, top10_acc])"
      ],
      "execution_count": null,
      "outputs": []
    },
    {
      "cell_type": "markdown",
      "metadata": {
        "id": "kw0b5RrXe9Cd"
      },
      "source": [
        "**train**"
      ]
    },
    {
      "cell_type": "code",
      "metadata": {
        "id": "DWTN0tbv9gIW"
      },
      "source": [
        "history = model.fit_generator(train, epochs=nr_ephocs, validation_data=valid)"
      ],
      "execution_count": null,
      "outputs": []
    },
    {
      "cell_type": "markdown",
      "metadata": {
        "id": "apkhd-eFLzni"
      },
      "source": [
        "**train with  checkpointer**"
      ]
    },
    {
      "cell_type": "code",
      "metadata": {
        "id": "zrW4bOE1LD-C"
      },
      "source": [
        "checkpointer = ModelCheckpoint(filepath= model_path, monitor='val_loss', save_best_only=True)\n",
        "history = model.fit_generator(train, epochs=nr_ephocs, validation_data=valid, callbacks=[checkpointer])"
      ],
      "execution_count": null,
      "outputs": []
    },
    {
      "cell_type": "markdown",
      "metadata": {
        "id": "vML7Q7oX52_A"
      },
      "source": [
        "**create training history graph**"
      ]
    },
    {
      "cell_type": "code",
      "metadata": {
        "id": "9xpag0Gs5qvy"
      },
      "source": [
        "create_history_graph_keras(history)\n",
        "create_history_graph_keras(history, separate_train_val_plots=False)"
      ],
      "execution_count": null,
      "outputs": []
    }
  ]
}