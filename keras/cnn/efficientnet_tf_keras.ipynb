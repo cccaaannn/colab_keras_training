{
  "cells": [
    {
      "attachments": {},
      "cell_type": "markdown",
      "metadata": {
        "colab_type": "text",
        "id": "view-in-github"
      },
      "source": [
        "<a href=\"https://colab.research.google.com/github/cccaaannn/deep_learning_colab/blob/master/keras/cnn/efficientnet_tf_keras.ipynb\" target=\"_parent\"><img src=\"https://colab.research.google.com/assets/colab-badge.svg\" alt=\"Open In Colab\"/></a>"
      ]
    },
    {
      "cell_type": "markdown",
      "metadata": {
        "colab_type": "text",
        "id": "goDf6QLWUkeq"
      },
      "source": [
        "**test gpu**"
      ]
    },
    {
      "cell_type": "code",
      "execution_count": null,
      "metadata": {
        "colab": {},
        "colab_type": "code",
        "id": "2as19GNXTPJZ"
      },
      "outputs": [],
      "source": [
        "!nvidia-smi"
      ]
    },
    {
      "cell_type": "markdown",
      "metadata": {
        "colab_type": "text",
        "id": "n2_ewvHvPPBU"
      },
      "source": [
        "**install latest tensorflow**"
      ]
    },
    {
      "cell_type": "code",
      "execution_count": null,
      "metadata": {
        "colab": {},
        "colab_type": "code",
        "id": "i7QEcVK-L33Z"
      },
      "outputs": [],
      "source": [
        "!pip3 install tf-nightly"
      ]
    },
    {
      "cell_type": "markdown",
      "metadata": {
        "colab_type": "text",
        "id": "t4XwYOpGUiYo"
      },
      "source": [
        "**imports**"
      ]
    },
    {
      "cell_type": "code",
      "execution_count": null,
      "metadata": {
        "colab": {},
        "colab_type": "code",
        "id": "hUnJCZEFTSNj"
      },
      "outputs": [],
      "source": [
        "import warnings\n",
        "warnings.filterwarnings(\"ignore\")\n",
        "\n",
        "# keras and tf\n",
        "import tensorflow as tf\n",
        "import keras\n",
        "\n",
        "# models\n",
        "from tensorflow.keras.models import Sequential\n",
        "from tensorflow.keras.models import Model\n",
        "\n",
        "# backend\n",
        "from tensorflow.keras import optimizers, metrics, models\n",
        "import tensorflow.keras.backend as K\n",
        "\n",
        "# layers\n",
        "from tensorflow.keras.layers import Input, add, Conv2D, Flatten, Dense, Dropout, Activation\n",
        "from tensorflow.keras.layers import Convolution2D, MaxPooling2D, ZeroPadding2D, GlobalAveragePooling2D, AveragePooling2D, BatchNormalization\n",
        "\n",
        "# optimizers\n",
        "from tensorflow.keras.optimizers import SGD, Adam, Adagrad, RMSprop\n",
        "\n",
        "# regularizers\n",
        "from tensorflow.keras.regularizers import l2\n",
        "\n",
        "# training\n",
        "from tensorflow.keras.preprocessing.image import ImageDataGenerator\n",
        "from tensorflow.keras.callbacks import ModelCheckpoint, CSVLogger, LearningRateScheduler\n",
        "\n",
        "# save\n",
        "import h5py\n",
        "\n",
        "# other libs\n",
        "import math\n",
        "import pickle\n",
        "import os"
      ]
    },
    {
      "cell_type": "markdown",
      "metadata": {
        "colab_type": "text",
        "id": "jhT_qL23Pgjq"
      },
      "source": [
        "**check keras aplications**"
      ]
    },
    {
      "cell_type": "code",
      "execution_count": null,
      "metadata": {
        "colab": {},
        "colab_type": "code",
        "id": "ILOuAGcsMreJ"
      },
      "outputs": [],
      "source": [
        "import tensorflow as tf\n",
        "dir(tf.keras.applications)"
      ]
    },
    {
      "cell_type": "markdown",
      "metadata": {
        "colab_type": "text",
        "id": "ummRC1sVPbMQ"
      },
      "source": [
        "**import keras aplications**"
      ]
    },
    {
      "cell_type": "code",
      "execution_count": null,
      "metadata": {
        "colab": {},
        "colab_type": "code",
        "id": "el5IE7ZsOFyI"
      },
      "outputs": [],
      "source": [
        "# keras aplications\n",
        "from tensorflow.keras.applications import (DenseNet121,\n",
        " DenseNet169,\n",
        " DenseNet201,\n",
        " EfficientNetB0,\n",
        " EfficientNetB1,\n",
        " EfficientNetB2,\n",
        " EfficientNetB3,\n",
        " EfficientNetB4,\n",
        " EfficientNetB5,\n",
        " EfficientNetB6,\n",
        " EfficientNetB7,\n",
        " InceptionResNetV2,\n",
        " InceptionV3,\n",
        " MobileNet,\n",
        " MobileNetV2,\n",
        " NASNetLarge,\n",
        " NASNetMobile,\n",
        " ResNet101,\n",
        " ResNet101V2,\n",
        " ResNet152,\n",
        " ResNet152V2,\n",
        " ResNet50,\n",
        " ResNet50V2,\n",
        " VGG16,\n",
        " VGG19)"
      ]
    },
    {
      "cell_type": "markdown",
      "metadata": {
        "colab_type": "text",
        "id": "GHNO7AVsUbQZ"
      },
      "source": [
        "**connect to the drive**"
      ]
    },
    {
      "cell_type": "code",
      "execution_count": null,
      "metadata": {
        "colab": {},
        "colab_type": "code",
        "id": "SmKDbRlESw-L"
      },
      "outputs": [],
      "source": [
        "from google.colab import drive\n",
        "drive.mount('/content/drive')"
      ]
    },
    {
      "cell_type": "markdown",
      "metadata": {
        "colab_type": "text",
        "id": "hReczusQUX3o"
      },
      "source": [
        "**set options**"
      ]
    },
    {
      "cell_type": "code",
      "execution_count": null,
      "metadata": {
        "colab": {},
        "colab_type": "code",
        "id": "Z3tRydV-TcB3"
      },
      "outputs": [],
      "source": [
        "image_size = 224 \n",
        "batch_size = 8\n",
        "nr_classes = 50\n",
        "nr_ephocs = 30\n",
        "train_dir = \"/content/drive/My Drive/Datasets/food_data_50/50/train\"\n",
        "test_dir = \"/content/drive/My Drive/Datasets/food_data_50/50/test\"\n",
        "all_dir = \"/content/drive/My Drive/Datasets/food_data_50/50/all\"\n",
        "model_path = \"/content/drive/My Drive/models/efficientnetb7_tfkeras_50_class_model.hdf5\""
      ]
    },
    {
      "cell_type": "markdown",
      "metadata": {
        "colab_type": "text",
        "id": "ILIAJpKbUUwx"
      },
      "source": [
        "**generate data**"
      ]
    },
    {
      "cell_type": "code",
      "execution_count": null,
      "metadata": {
        "colab": {},
        "colab_type": "code",
        "id": "q6aQIZ1ATYpL"
      },
      "outputs": [],
      "source": [
        "train_datagen = ImageDataGenerator(\n",
        "        # rotation -40 40\n",
        "        rotation_range=40,\n",
        "\n",
        "        # shift images and fill pixels with nearest\n",
        "        width_shift_range=0.2,\n",
        "        height_shift_range=0.2,\n",
        "        fill_mode='nearest',\n",
        "\n",
        "        horizontal_flip=True,\n",
        "        zoom_range=0.3,\n",
        "\n",
        "        shear_range=0.2,\n",
        "\n",
        "        brightness_range=[0.1, 0.5],\n",
        "        channel_shift_range=0.5,\n",
        "\n",
        "        # normalization \n",
        "        featurewise_center=True,\n",
        "        featurewise_std_normalization=True,\n",
        "        # validation_split=0.2,\n",
        "        )\n",
        "\n",
        "valid_datagen = ImageDataGenerator(featurewise_center=True, featurewise_std_normalization=True)\n",
        "\n",
        "train = train_datagen.flow_from_directory(train_dir, target_size=(image_size,image_size), batch_size=batch_size)\n",
        "valid = valid_datagen.flow_from_directory(test_dir, target_size=(image_size,image_size), batch_size=batch_size)\n",
        "\n",
        "# train = train_datagen.flow_from_directory(\n",
        "#     directory = all_dir,\n",
        "#     target_size = (image_size,image_size), \n",
        "#     batch_size = batch_size,\n",
        "#     subset=\"training\",\n",
        "#     shuffle=True\n",
        "# )\n",
        "\n",
        "# valid = train_datagen.flow_from_directory(\n",
        "#     directory = all_dir,\n",
        "#     target_size = (image_size,image_size), \n",
        "#     batch_size = batch_size,\n",
        "#     subset=\"validation\",\n",
        "#     shuffle=True\n",
        "# )"
      ]
    },
    {
      "cell_type": "markdown",
      "metadata": {
        "colab_type": "text",
        "id": "CSGSyXplRK5X"
      },
      "source": [
        "**build model**"
      ]
    },
    {
      "cell_type": "code",
      "execution_count": null,
      "metadata": {
        "colab": {},
        "colab_type": "code",
        "id": "NEuwfX37iMwY"
      },
      "outputs": [],
      "source": [
        "base_model = EfficientNetB0(include_top=False)"
      ]
    },
    {
      "cell_type": "code",
      "execution_count": null,
      "metadata": {
        "colab": {},
        "colab_type": "code",
        "id": "TfL3mr8ZiLVh"
      },
      "outputs": [],
      "source": [
        "base_model = EfficientNetB7(include_top=False)"
      ]
    },
    {
      "cell_type": "code",
      "execution_count": null,
      "metadata": {
        "colab": {},
        "colab_type": "code",
        "id": "OxbKNtZcDS-A"
      },
      "outputs": [],
      "source": [
        "x=base_model.output\n",
        "x=GlobalAveragePooling2D()(x)\n",
        "preds=Dense(nr_classes,activation='softmax')(x)\n",
        "model=Model(inputs=base_model.input,outputs=preds)"
      ]
    },
    {
      "cell_type": "code",
      "execution_count": null,
      "metadata": {
        "colab": {},
        "colab_type": "code",
        "id": "M53SUpwPJJZe"
      },
      "outputs": [],
      "source": [
        "efficient_net = EfficientNetB7(\n",
        "    weights='imagenet',\n",
        "    input_shape=(image_size,image_size,3),\n",
        "    include_top=False,\n",
        "    pooling='max'\n",
        ")\n",
        "\n",
        "model = Sequential()\n",
        "model.add(efficient_net)\n",
        "model.add(Dense(units = 1000, activation='relu'))\n",
        "model.add(Dense(units = 100, activation = 'relu'))\n",
        "model.add(Dense(nr_classes,activation='softmax'))\n",
        "model.summary()"
      ]
    },
    {
      "cell_type": "markdown",
      "metadata": {
        "colab_type": "text",
        "id": "gZsd-wlfT8Uh"
      },
      "source": [
        "**set optimizer**"
      ]
    },
    {
      "cell_type": "code",
      "execution_count": null,
      "metadata": {
        "colab": {},
        "colab_type": "code",
        "id": "-5SlvlndSxMX"
      },
      "outputs": [],
      "source": [
        "opt = SGD(lr=0.0001, momentum=0.9)"
      ]
    },
    {
      "cell_type": "code",
      "execution_count": null,
      "metadata": {
        "colab": {},
        "colab_type": "code",
        "id": "FiJo-hnGg80L"
      },
      "outputs": [],
      "source": [
        "opt = SGD(lr=0.01, nesterov=True)"
      ]
    },
    {
      "cell_type": "code",
      "execution_count": null,
      "metadata": {
        "colab": {},
        "colab_type": "code",
        "id": "Ic3khkhZh8Ct"
      },
      "outputs": [],
      "source": [
        "opt = Adam(lr=0.0001)"
      ]
    },
    {
      "cell_type": "code",
      "execution_count": null,
      "metadata": {
        "colab": {},
        "colab_type": "code",
        "id": "BJrHELPCg9eI"
      },
      "outputs": [],
      "source": [
        "opt = Adagrad()"
      ]
    },
    {
      "cell_type": "code",
      "execution_count": null,
      "metadata": {
        "colab": {},
        "colab_type": "code",
        "id": "szaN3BuQvUU0"
      },
      "outputs": [],
      "source": [
        "opt = RMSprop()"
      ]
    },
    {
      "cell_type": "markdown",
      "metadata": {
        "colab_type": "text",
        "id": "Ee8Ox38rUDQJ"
      },
      "source": [
        "**compile model**"
      ]
    },
    {
      "cell_type": "code",
      "execution_count": null,
      "metadata": {
        "colab": {},
        "colab_type": "code",
        "id": "PS6nKrTDDl8F"
      },
      "outputs": [],
      "source": [
        "import functools\n",
        "top3_acc = functools.partial(keras.metrics.top_k_categorical_accuracy, k=3)\n",
        "top3_acc.__name__ = 'top3_acc'\n",
        "\n",
        "top5_acc = functools.partial(keras.metrics.top_k_categorical_accuracy, k=5)\n",
        "top5_acc.__name__ = 'top5_acc'\n",
        "\n",
        "top10_acc = functools.partial(keras.metrics.top_k_categorical_accuracy, k=10)\n",
        "top10_acc.__name__ = 'top10_acc'\n",
        "\n",
        "model.compile(loss = \"categorical_crossentropy\", optimizer = opt, metrics=['accuracy', top3_acc, top5_acc, top10_acc])"
      ]
    },
    {
      "cell_type": "code",
      "execution_count": null,
      "metadata": {
        "colab": {},
        "colab_type": "code",
        "id": "cBfbkE8JTA1i"
      },
      "outputs": [],
      "source": [
        "model.compile(loss = \"categorical_crossentropy\", optimizer = opt, metrics=['accuracy'])"
      ]
    },
    {
      "cell_type": "markdown",
      "metadata": {
        "colab_type": "text",
        "id": "apkhd-eFLzni"
      },
      "source": [
        "**set checkpointer**"
      ]
    },
    {
      "cell_type": "code",
      "execution_count": null,
      "metadata": {
        "colab": {},
        "colab_type": "code",
        "id": "zrW4bOE1LD-C"
      },
      "outputs": [],
      "source": [
        "checkpointer = ModelCheckpoint(filepath= model_path, monitor='val_loss', save_best_only=True)"
      ]
    },
    {
      "cell_type": "markdown",
      "metadata": {
        "colab_type": "text",
        "id": "addQGyq0H6px"
      },
      "source": [
        "**train**"
      ]
    },
    {
      "cell_type": "code",
      "execution_count": null,
      "metadata": {
        "colab": {},
        "colab_type": "code",
        "id": "GAFM1g1vb77q"
      },
      "outputs": [],
      "source": [
        "history = model.fit_generator(train, epochs=nr_ephocs, validation_data=valid, callbacks=[checkpointer])"
      ]
    },
    {
      "cell_type": "code",
      "execution_count": null,
      "metadata": {
        "colab": {},
        "colab_type": "code",
        "id": "s3e0PAoKyro-"
      },
      "outputs": [],
      "source": [
        "history = model.fit_generator(train, epochs=nr_ephocs, validation_data=valid)"
      ]
    }
  ],
  "metadata": {
    "colab": {
      "authorship_tag": "ABX9TyMTAYw7ZPEkIKHc+K19MOmH",
      "collapsed_sections": [],
      "include_colab_link": true,
      "name": "efficientnet_tf.keras",
      "provenance": []
    },
    "kernelspec": {
      "display_name": "Python 3",
      "language": "python",
      "name": "python3"
    },
    "language_info": {
      "name": "python",
      "version": "3.10.1"
    },
    "vscode": {
      "interpreter": {
        "hash": "311ad0edd6acdcb371f729590e8578d03d41f9cad157261ca127aabce1718292"
      }
    }
  },
  "nbformat": 4,
  "nbformat_minor": 0
}
