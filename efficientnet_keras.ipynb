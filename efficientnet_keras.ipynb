{
  "nbformat": 4,
  "nbformat_minor": 0,
  "metadata": {
    "colab": {
      "name": "efficientnet_keras",
      "provenance": [],
      "collapsed_sections": [],
      "mount_file_id": "1aiZDviiFU8O3AvBRtH9ThRLOi-wm_bVK",
      "authorship_tag": "ABX9TyMU8OpCNKW7RjC4pB8e3ZqR",
      "include_colab_link": true
    },
    "kernelspec": {
      "name": "python3",
      "display_name": "Python 3"
    },
    "accelerator": "GPU"
  },
  "cells": [
    {
      "cell_type": "markdown",
      "metadata": {
        "id": "view-in-github",
        "colab_type": "text"
      },
      "source": [
        "<a href=\"https://colab.research.google.com/github/cccaaannn/deep_learning_colab/blob/master/efficientnet_keras.ipynb\" target=\"_parent\"><img src=\"https://colab.research.google.com/assets/colab-badge.svg\" alt=\"Open In Colab\"/></a>"
      ]
    },
    {
      "cell_type": "markdown",
      "metadata": {
        "id": "goDf6QLWUkeq",
        "colab_type": "text"
      },
      "source": [
        "**test gpu**"
      ]
    },
    {
      "cell_type": "code",
      "metadata": {
        "id": "2as19GNXTPJZ",
        "colab_type": "code",
        "colab": {}
      },
      "source": [
        "!nvidia-smi"
      ],
      "execution_count": null,
      "outputs": []
    },
    {
      "cell_type": "markdown",
      "metadata": {
        "id": "t4XwYOpGUiYo",
        "colab_type": "text"
      },
      "source": [
        "**imports**"
      ]
    },
    {
      "cell_type": "code",
      "metadata": {
        "id": "hUnJCZEFTSNj",
        "colab_type": "code",
        "colab": {}
      },
      "source": [
        "import warnings\n",
        "warnings.filterwarnings(\"ignore\")\n",
        "\n",
        "# keras and tf\n",
        "import tensorflow as tf\n",
        "import keras\n",
        "\n",
        "# models\n",
        "from keras.models import Sequential\n",
        "from keras.models import Model\n",
        "\n",
        "# backend\n",
        "from keras import optimizers, metrics, models\n",
        "import keras.backend as K\n",
        "\n",
        "# layers\n",
        "from keras.layers import Input, add, Conv2D, Flatten, Dense, Dropout, Activation\n",
        "from keras.layers import Convolution2D, MaxPooling2D, ZeroPadding2D, GlobalAveragePooling2D, AveragePooling2D, BatchNormalization\n",
        "from keras.layers.advanced_activations import LeakyReLU\n",
        "\n",
        "# optimizers\n",
        "from keras.optimizers import SGD, Adam\n",
        "\n",
        "# regularizers\n",
        "from keras.regularizers import l2\n",
        "\n",
        "# training\n",
        "from keras.preprocessing.image import ImageDataGenerator\n",
        "from keras.callbacks import ModelCheckpoint, CSVLogger, LearningRateScheduler\n",
        "\n",
        "# save\n",
        "import h5py\n",
        "\n",
        "# keras aplications\n",
        "from keras.applications import DenseNet201, DenseNet169, InceptionResNetV2, ResNet152V2, InceptionV3, DenseNet121, Xception, MobileNet, VGG19\n",
        "\n",
        "\n",
        "# other libs\n",
        "import math\n",
        "import pickle\n",
        "import os"
      ],
      "execution_count": 23,
      "outputs": []
    },
    {
      "cell_type": "markdown",
      "metadata": {
        "id": "M-XYKtzrUmvg",
        "colab_type": "text"
      },
      "source": [
        "**install efficieintNet**"
      ]
    },
    {
      "cell_type": "code",
      "metadata": {
        "id": "9I0CY2wxRPS5",
        "colab_type": "code",
        "colab": {}
      },
      "source": [
        "pip install -U efficientnet"
      ],
      "execution_count": null,
      "outputs": []
    },
    {
      "cell_type": "markdown",
      "metadata": {
        "id": "h1raXCT0Us0T",
        "colab_type": "text"
      },
      "source": [
        "**import efficientNet**"
      ]
    },
    {
      "cell_type": "code",
      "metadata": {
        "id": "pW0cQLKYRteq",
        "colab_type": "code",
        "colab": {}
      },
      "source": [
        "import efficientnet.keras as efn "
      ],
      "execution_count": 4,
      "outputs": []
    },
    {
      "cell_type": "markdown",
      "metadata": {
        "id": "GHNO7AVsUbQZ",
        "colab_type": "text"
      },
      "source": [
        "**connect to the drive**"
      ]
    },
    {
      "cell_type": "code",
      "metadata": {
        "id": "SmKDbRlESw-L",
        "colab_type": "code",
        "colab": {}
      },
      "source": [
        "from google.colab import drive\n",
        "drive.mount('/content/drive')"
      ],
      "execution_count": null,
      "outputs": []
    },
    {
      "cell_type": "markdown",
      "metadata": {
        "id": "hReczusQUX3o",
        "colab_type": "text"
      },
      "source": [
        "**set options**"
      ]
    },
    {
      "cell_type": "code",
      "metadata": {
        "id": "Z3tRydV-TcB3",
        "colab_type": "code",
        "colab": {}
      },
      "source": [
        "image_size = 224 \n",
        "batch_size = 8\n",
        "nr_classes = 50\n",
        "nr_ephocs = 30\n",
        "train_dir = \"/content/drive/My Drive/Datasets/food_data_50/50/train\"\n",
        "test_dir = \"/content/drive/My Drive/Datasets/food_data_50/50/test\"\n",
        "all_dir = \"/content/drive/My Drive/Datasets/food_data_50/50/all\"\n",
        "model_path = \"/content/drive/My Drive/models/efficientnetb7_keras_50_class_model.hdf5\""
      ],
      "execution_count": 28,
      "outputs": []
    },
    {
      "cell_type": "markdown",
      "metadata": {
        "id": "ILIAJpKbUUwx",
        "colab_type": "text"
      },
      "source": [
        "**generate data**"
      ]
    },
    {
      "cell_type": "code",
      "metadata": {
        "id": "q6aQIZ1ATYpL",
        "colab_type": "code",
        "colab": {}
      },
      "source": [
        "train_datagen = ImageDataGenerator(\n",
        "        # rotation -40 40\n",
        "        rotation_range=40,\n",
        "\n",
        "        # shift images and fill pixels with nearest\n",
        "        width_shift_range=0.2,\n",
        "        height_shift_range=0.2,\n",
        "        fill_mode='nearest',\n",
        "\n",
        "        horizontal_flip=True,\n",
        "        zoom_range=0.3,\n",
        "\n",
        "        shear_range=0.2,\n",
        "\n",
        "        brightness_range=[0.1, 0.5],\n",
        "        channel_shift_range=0.5,\n",
        "\n",
        "        # normalization \n",
        "        featurewise_center=True,\n",
        "        featurewise_std_normalization=True,\n",
        "        # validation_split=0.2,\n",
        "        )\n",
        "\n",
        "valid_datagen = ImageDataGenerator(featurewise_center=True, featurewise_std_normalization=True)\n",
        "\n",
        "train = train_datagen.flow_from_directory(train_dir, target_size=(image_size,image_size), batch_size=batch_size)\n",
        "valid = valid_datagen.flow_from_directory(test_dir, target_size=(image_size,image_size), batch_size=batch_size)\n",
        "\n",
        "# train = train_datagen.flow_from_directory(\n",
        "#     directory = all_dir,\n",
        "#     target_size = (image_size,image_size), \n",
        "#     batch_size = batch_size,\n",
        "#     subset=\"training\",\n",
        "#     shuffle=True\n",
        "# )\n",
        "\n",
        "# valid = train_datagen.flow_from_directory(\n",
        "#     directory = all_dir,\n",
        "#     target_size = (image_size,image_size), \n",
        "#     batch_size = batch_size,\n",
        "#     subset=\"validation\",\n",
        "#     shuffle=True\n",
        "# )"
      ],
      "execution_count": null,
      "outputs": []
    },
    {
      "cell_type": "markdown",
      "metadata": {
        "id": "CSGSyXplRK5X",
        "colab_type": "text"
      },
      "source": [
        "**build model**"
      ]
    },
    {
      "cell_type": "code",
      "metadata": {
        "id": "NEuwfX37iMwY",
        "colab_type": "code",
        "colab": {}
      },
      "source": [
        "base_model = efn.EfficientNetB0(include_top=False)"
      ],
      "execution_count": null,
      "outputs": []
    },
    {
      "cell_type": "code",
      "metadata": {
        "id": "TfL3mr8ZiLVh",
        "colab_type": "code",
        "colab": {}
      },
      "source": [
        "base_model = efn.EfficientNetB7(include_top=False)"
      ],
      "execution_count": null,
      "outputs": []
    },
    {
      "cell_type": "code",
      "metadata": {
        "id": "OxbKNtZcDS-A",
        "colab_type": "code",
        "colab": {}
      },
      "source": [
        "x=base_model.output\n",
        "x=GlobalAveragePooling2D()(x)\n",
        "preds=Dense(nr_classes,activation='softmax')(x)\n",
        "model=Model(inputs=base_model.input,outputs=preds)"
      ],
      "execution_count": 20,
      "outputs": []
    },
    {
      "cell_type": "markdown",
      "metadata": {
        "id": "gZsd-wlfT8Uh",
        "colab_type": "text"
      },
      "source": [
        "**set optimizer**"
      ]
    },
    {
      "cell_type": "code",
      "metadata": {
        "id": "-5SlvlndSxMX",
        "colab_type": "code",
        "colab": {}
      },
      "source": [
        "opt = SGD(lr=0.0001, momentum=0.9)"
      ],
      "execution_count": null,
      "outputs": []
    },
    {
      "cell_type": "code",
      "metadata": {
        "id": "FiJo-hnGg80L",
        "colab_type": "code",
        "colab": {}
      },
      "source": [
        "opt = SGD(lr=0.01, nesterov=True)"
      ],
      "execution_count": null,
      "outputs": []
    },
    {
      "cell_type": "code",
      "metadata": {
        "id": "Ic3khkhZh8Ct",
        "colab_type": "code",
        "colab": {}
      },
      "source": [
        "opt = Adam(lr=0.0001)"
      ],
      "execution_count": null,
      "outputs": []
    },
    {
      "cell_type": "code",
      "metadata": {
        "id": "BJrHELPCg9eI",
        "colab_type": "code",
        "colab": {}
      },
      "source": [
        "opt = Adagrad()"
      ],
      "execution_count": null,
      "outputs": []
    },
    {
      "cell_type": "code",
      "metadata": {
        "id": "szaN3BuQvUU0",
        "colab_type": "code",
        "colab": {}
      },
      "source": [
        "opt = RMSprop()"
      ],
      "execution_count": null,
      "outputs": []
    },
    {
      "cell_type": "markdown",
      "metadata": {
        "id": "Ee8Ox38rUDQJ",
        "colab_type": "text"
      },
      "source": [
        "**compile model**"
      ]
    },
    {
      "cell_type": "code",
      "metadata": {
        "id": "PS6nKrTDDl8F",
        "colab_type": "code",
        "colab": {}
      },
      "source": [
        "import functools\n",
        "top3_acc = functools.partial(keras.metrics.top_k_categorical_accuracy, k=3)\n",
        "top3_acc.__name__ = 'top3_acc'\n",
        "\n",
        "top5_acc = functools.partial(keras.metrics.top_k_categorical_accuracy, k=5)\n",
        "top5_acc.__name__ = 'top5_acc'\n",
        "\n",
        "top10_acc = functools.partial(keras.metrics.top_k_categorical_accuracy, k=10)\n",
        "top10_acc.__name__ = 'top10_acc'\n",
        "\n",
        "model.compile(loss = \"categorical_crossentropy\", optimizer = opt, metrics=['accuracy', top3_acc, top5_acc, top10_acc])"
      ],
      "execution_count": 25,
      "outputs": []
    },
    {
      "cell_type": "code",
      "metadata": {
        "id": "cBfbkE8JTA1i",
        "colab_type": "code",
        "colab": {}
      },
      "source": [
        "model.compile(loss = \"categorical_crossentropy\", optimizer = opt, metrics=['accuracy'])"
      ],
      "execution_count": null,
      "outputs": []
    },
    {
      "cell_type": "markdown",
      "metadata": {
        "id": "apkhd-eFLzni",
        "colab_type": "text"
      },
      "source": [
        "**set checkpointer**"
      ]
    },
    {
      "cell_type": "code",
      "metadata": {
        "id": "zrW4bOE1LD-C",
        "colab_type": "code",
        "colab": {}
      },
      "source": [
        "checkpointer = ModelCheckpoint(filepath= model_path, monitor='val_loss', save_best_only=True)"
      ],
      "execution_count": 26,
      "outputs": []
    },
    {
      "cell_type": "markdown",
      "metadata": {
        "id": "addQGyq0H6px",
        "colab_type": "text"
      },
      "source": [
        "**train**"
      ]
    },
    {
      "cell_type": "code",
      "metadata": {
        "id": "GAFM1g1vb77q",
        "colab_type": "code",
        "colab": {}
      },
      "source": [
        "history = model.fit_generator(train, epochs=nr_ephocs, validation_data=valid, callbacks=[checkpointer])"
      ],
      "execution_count": null,
      "outputs": []
    },
    {
      "cell_type": "code",
      "metadata": {
        "id": "s3e0PAoKyro-",
        "colab_type": "code",
        "colab": {}
      },
      "source": [
        "history = model.fit_generator(train, epochs=nr_ephocs, validation_data=valid)"
      ],
      "execution_count": null,
      "outputs": []
    }
  ]
}