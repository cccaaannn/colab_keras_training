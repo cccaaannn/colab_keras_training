{
  "nbformat": 4,
  "nbformat_minor": 0,
  "metadata": {
    "colab": {
      "name": "testing_builtin_keras_models",
      "provenance": [],
      "collapsed_sections": [],
      "toc_visible": true,
      "authorship_tag": "ABX9TyMy7HJlnUVkiRFxzechM+zH",
      "include_colab_link": true
    },
    "kernelspec": {
      "name": "python3",
      "display_name": "Python 3"
    },
    "accelerator": "GPU"
  },
  "cells": [
    {
      "cell_type": "markdown",
      "metadata": {
        "id": "view-in-github",
        "colab_type": "text"
      },
      "source": [
        "<a href=\"https://colab.research.google.com/github/cccaaannn/colab_keras_training/blob/master/testing_builtin_keras_models.ipynb\" target=\"_parent\"><img src=\"https://colab.research.google.com/assets/colab-badge.svg\" alt=\"Open In Colab\"/></a>"
      ]
    },
    {
      "cell_type": "markdown",
      "metadata": {
        "id": "hFWXcDlUWfAF",
        "colab_type": "text"
      },
      "source": [
        "**check the gpu**"
      ]
    },
    {
      "cell_type": "code",
      "metadata": {
        "id": "HoeiVuu3XY5K",
        "colab_type": "code",
        "colab": {}
      },
      "source": [
        "!nvidia-smi"
      ],
      "execution_count": 0,
      "outputs": []
    },
    {
      "cell_type": "markdown",
      "metadata": {
        "id": "Jhk8XxSFI_SR",
        "colab_type": "text"
      },
      "source": [
        "**select tf 1.x**"
      ]
    },
    {
      "cell_type": "code",
      "metadata": {
        "id": "ZyIQLWYrI-2R",
        "colab_type": "code",
        "colab": {}
      },
      "source": [
        "%tensorflow_version 1.x"
      ],
      "execution_count": 0,
      "outputs": []
    },
    {
      "cell_type": "markdown",
      "metadata": {
        "id": "b2bmk3-uUuzs",
        "colab_type": "text"
      },
      "source": [
        "**imports**"
      ]
    },
    {
      "cell_type": "code",
      "metadata": {
        "id": "WerImThL0kOo",
        "colab_type": "code",
        "colab": {}
      },
      "source": [
        "import warnings\n",
        "warnings.filterwarnings(\"ignore\")\n",
        "\n",
        "# keras and tf\n",
        "import tensorflow as tf\n",
        "import keras\n",
        "\n",
        "# models\n",
        "from keras.models import Sequential\n",
        "from keras.models import Model\n",
        "\n",
        "# backend\n",
        "from keras import optimizers, metrics, models\n",
        "import keras.backend as K\n",
        "\n",
        "# layers\n",
        "from keras.layers import Input, Flatten, Dense, Dropout, Activation\n",
        "from keras.layers import Convolution2D, MaxPooling2D, ZeroPadding2D, GlobalAveragePooling2D, AveragePooling2D, BatchNormalization\n",
        "\n",
        "# optimizers\n",
        "from keras.optimizers import SGD\n",
        "\n",
        "# training\n",
        "from keras.preprocessing.image import ImageDataGenerator\n",
        "from keras.callbacks import ModelCheckpoint, CSVLogger, LearningRateScheduler\n",
        "\n",
        "# save\n",
        "import h5py\n",
        "\n",
        "# keras aplications\n",
        "from keras.applications import DenseNet201, DenseNet169, InceptionResNetV2, ResNet152V2, InceptionV3, DenseNet121, Xception, MobileNet, VGG19\n",
        "\n",
        "\n",
        "# other libs\n",
        "import math\n",
        "import pickle\n",
        "import os"
      ],
      "execution_count": 0,
      "outputs": []
    },
    {
      "cell_type": "markdown",
      "metadata": {
        "id": "jGwXX10YWiaY",
        "colab_type": "text"
      },
      "source": [
        "**connect to the drive**"
      ]
    },
    {
      "cell_type": "code",
      "metadata": {
        "id": "zErMUWxW0kJM",
        "colab_type": "code",
        "colab": {}
      },
      "source": [
        "from google.colab import drive\n",
        "drive.mount('/content/drive')"
      ],
      "execution_count": 0,
      "outputs": []
    },
    {
      "cell_type": "markdown",
      "metadata": {
        "id": "fjzprYc4drfS",
        "colab_type": "text"
      },
      "source": [
        "**set options**"
      ]
    },
    {
      "cell_type": "code",
      "metadata": {
        "id": "0Rp0m5QRZReS",
        "colab_type": "code",
        "colab": {}
      },
      "source": [
        "image_size = 224\n",
        "batch_size = 32\n",
        "nr_classes = 105\n",
        "nr_ephocs = 100"
      ],
      "execution_count": 0,
      "outputs": []
    },
    {
      "cell_type": "markdown",
      "metadata": {
        "id": "RAWIyBMzZY3j",
        "colab_type": "text"
      },
      "source": [
        "**generate data**"
      ]
    },
    {
      "cell_type": "code",
      "metadata": {
        "id": "MLSN1txQ0kCT",
        "colab_type": "code",
        "colab": {}
      },
      "source": [
        "train_datagen = ImageDataGenerator(\n",
        "        # rotation -40 40\n",
        "        rotation_range=40,\n",
        "\n",
        "        # shift images and fill pixels with nearest\n",
        "        width_shift_range=0.2,\n",
        "        height_shift_range=0.2,\n",
        "        fill_mode='nearest',\n",
        "\n",
        "        horizontal_flip=True,\n",
        "        zoom_range=0.3,\n",
        "\n",
        "        shear_range=0.2,\n",
        "\n",
        "        brightness_range=[0.1, 0.5],\n",
        "        channel_shift_range=0.5,\n",
        "\n",
        "        # normalization \n",
        "        featurewise_center=True,\n",
        "        featurewise_std_normalization=True,\n",
        "        # validation_split=0.2,\n",
        "        )\n",
        "# train_datagen = ImageDataGenerator(\n",
        "#         rotation_range=60,\n",
        "#         width_shift_range=0.3,\n",
        "#         height_shift_range=0.3,\n",
        "#         fill_mode='nearest',\n",
        "#         horizontal_flip=True,\n",
        "#         zoom_range=0.3,\n",
        "#         shear_range=0.2,\n",
        "#         brightness_range=[0.1, 0.5],\n",
        "#         channel_shift_range=0.5,\n",
        "#         featurewise_center=True,\n",
        "#         featurewise_std_normalization=True,\n",
        "#         )\n",
        "valid_datagen = ImageDataGenerator(featurewise_center=True, featurewise_std_normalization=True)\n",
        "\n",
        "\n",
        "# train = train_datagen.flow_from_directory(\"/content/drive/My Drive/Data/train\", shuffle=True, class_mode='categorical', target_size=(image_size,image_size), batch_size=batch_size)\n",
        "# valid = valid_datagen.flow_from_directory(\"/content/drive/My Drive/Data/test\", shuffle=True, class_mode='categorical', target_size=(image_size,image_size), batch_size=batch_size)\n",
        "\n",
        "train = train_datagen.flow_from_directory(\"/content/drive/My Drive/clean_data/train\", target_size=(image_size,image_size), batch_size=batch_size)\n",
        "valid = valid_datagen.flow_from_directory(\"/content/drive/My Drive/clean_data/test\", target_size=(image_size,image_size), batch_size=batch_size)\n"
      ],
      "execution_count": 0,
      "outputs": []
    },
    {
      "cell_type": "markdown",
      "metadata": {
        "id": "_-kC328sdymQ",
        "colab_type": "text"
      },
      "source": [
        "**select model**"
      ]
    },
    {
      "cell_type": "code",
      "metadata": {
        "id": "zik8fyZsuzqx",
        "colab_type": "code",
        "colab": {}
      },
      "source": [
        "base_model=DenseNet201(include_top=False)"
      ],
      "execution_count": 0,
      "outputs": []
    },
    {
      "cell_type": "code",
      "metadata": {
        "id": "uAuJXPVj6zXu",
        "colab_type": "code",
        "colab": {}
      },
      "source": [
        "base_model=InceptionResNetV2(include_top=False)"
      ],
      "execution_count": 0,
      "outputs": []
    },
    {
      "cell_type": "code",
      "metadata": {
        "id": "bjY1q6Qrd4aE",
        "colab_type": "code",
        "colab": {}
      },
      "source": [
        "base_model=InceptionV3(include_top=False)"
      ],
      "execution_count": 0,
      "outputs": []
    },
    {
      "cell_type": "code",
      "metadata": {
        "id": "eByXSXUewQX5",
        "colab_type": "code",
        "colab": {}
      },
      "source": [
        "base_model=DenseNet169(include_top=False)"
      ],
      "execution_count": 0,
      "outputs": []
    },
    {
      "cell_type": "code",
      "metadata": {
        "id": "ah062SzeVE72",
        "colab_type": "code",
        "colab": {}
      },
      "source": [
        "base_model=DenseNet121(include_top=False)"
      ],
      "execution_count": 0,
      "outputs": []
    },
    {
      "cell_type": "code",
      "metadata": {
        "id": "Ti0pZhH5d2lc",
        "colab_type": "code",
        "colab": {}
      },
      "source": [
        "base_model=ResNet152V2(include_top=False)"
      ],
      "execution_count": 0,
      "outputs": []
    },
    {
      "cell_type": "code",
      "metadata": {
        "id": "AOUAJ2wTfqx-",
        "colab_type": "code",
        "colab": {}
      },
      "source": [
        "base_model=Xception(include_top=False)"
      ],
      "execution_count": 0,
      "outputs": []
    },
    {
      "cell_type": "code",
      "metadata": {
        "id": "RrfY-q8SFMIk",
        "colab_type": "code",
        "colab": {}
      },
      "source": [
        "base_model=VGG19(include_top=False)"
      ],
      "execution_count": 0,
      "outputs": []
    },
    {
      "cell_type": "markdown",
      "metadata": {
        "id": "h2aZyLEPd20M",
        "colab_type": "text"
      },
      "source": [
        "**add last layer**"
      ]
    },
    {
      "cell_type": "code",
      "metadata": {
        "id": "NZkYZWetcUxF",
        "colab_type": "code",
        "colab": {}
      },
      "source": [
        "x=base_model.output\n",
        "x=GlobalAveragePooling2D()(x) #HATAYI BU COZDU\n",
        "preds=Dense(nr_classes,activation='softmax')(x)\n",
        "model=Model(inputs=base_model.input,outputs=preds)"
      ],
      "execution_count": 0,
      "outputs": []
    },
    {
      "cell_type": "markdown",
      "metadata": {
        "id": "Mb6Lf5Ure3ay",
        "colab_type": "text"
      },
      "source": [
        "**compile model**"
      ]
    },
    {
      "cell_type": "code",
      "metadata": {
        "id": "-T1p3yyf9FCZ",
        "colab_type": "code",
        "colab": {}
      },
      "source": [
        "opt = SGD(lr=0.001, momentum=0.9)\n",
        "model.compile(loss = \"categorical_crossentropy\", optimizer = opt, metrics=['accuracy'])"
      ],
      "execution_count": 0,
      "outputs": []
    },
    {
      "cell_type": "markdown",
      "metadata": {
        "id": "kw0b5RrXe9Cd",
        "colab_type": "text"
      },
      "source": [
        "**train**"
      ]
    },
    {
      "cell_type": "code",
      "metadata": {
        "id": "DWTN0tbv9gIW",
        "colab_type": "code",
        "colab": {}
      },
      "source": [
        "history = model.fit_generator(train, epochs=nr_ephocs, verbose=1, validation_data=valid)"
      ],
      "execution_count": 0,
      "outputs": []
    }
  ]
}